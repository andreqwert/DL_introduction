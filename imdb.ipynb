{
 "cells": [
  {
   "cell_type": "markdown",
   "metadata": {},
   "source": [
    "# IMDB"
   ]
  },
  {
   "cell_type": "markdown",
   "metadata": {},
   "source": [
    "*Задача:* бинарная классификация фильмов на положительные и отрицательные.    \n",
    "*Дано:* выборка 25000 обучающих (50% негативных и 50% положительных) и 25000 контрольных отзывов (50% негативных и 50% положительных)."
   ]
  },
  {
   "cell_type": "code",
   "execution_count": 1,
   "metadata": {},
   "outputs": [
    {
     "name": "stderr",
     "output_type": "stream",
     "text": [
      "Using TensorFlow backend.\n"
     ]
    }
   ],
   "source": [
    "from keras.datasets import imdb"
   ]
  },
  {
   "cell_type": "markdown",
   "metadata": {},
   "source": [
    "### Предобработка"
   ]
  },
  {
   "cell_type": "code",
   "execution_count": 2,
   "metadata": {},
   "outputs": [
    {
     "name": "stdout",
     "output_type": "stream",
     "text": [
      "Пример отзыва:  [1, 14, 22, 16, 43, 530, 973, 1622, 1385, 65, 458, 4468, 66, 3941, 4, 173, 36, 256, 5, 25]\n",
      "Пример метки (отриц. или положительный):  1\n"
     ]
    }
   ],
   "source": [
    "\"\"\"\n",
    "В обучающих данных будет сохранено только 10000 наиболее часто встречающихся слов.\n",
    "train_data, test_data - списки отзывов, каждый отзыв = список индексов слов.\n",
    "train_labels, test_labels - списки нулей и единиц, где 0 - отриц. отзыв, 1 - положит. отзыв.\n",
    "\n",
    "\"\"\"\n",
    "\n",
    "\n",
    "(train_data, train_labels), (test_data, test_labels) = imdb.load_data(num_words=10000)\n",
    "print('Пример отзыва: ', train_data[0][0:20])\n",
    "print('Пример метки (отриц. или положительный): ', train_labels[0])"
   ]
  },
  {
   "cell_type": "code",
   "execution_count": 3,
   "metadata": {},
   "outputs": [
    {
     "name": "stdout",
     "output_type": "stream",
     "text": [
      "? this film was just brilliant casting location scenery story direction everyone's really suited the part they played and you could just imagine being there robert ? is an amazing actor and now the same being director ? father came from the same scottish island as myself so i loved the fact there was a real connection with this film the witty remarks throughout the film were great it was just brilliant so much that i bought the film as soon as it was released for ? and would recommend it to everyone to watch and the fly fishing was amazing really cried at the end it was so sad and you know what they say if you cry at a film it must have been good and this definitely was also ? to the two little boy's that played the ? of norman and paul they were just brilliant children are often left out of the ? list i think because the stars that play them all grown up are such a big profile for the whole film but these children are amazing and should be praised for what they have done don't you think the whole story was so lovely because it was true and was someone's life after all that was shared with us all\n"
     ]
    }
   ],
   "source": [
    "\"\"\"Декодирование последовательности слов\"\"\" \n",
    "\n",
    "# word_index - это словарь, отображающий слова в целочисленные индексы\n",
    "word_index = imdb.get_word_index()\n",
    "# Получить обратное представление словаря, отображающее индексы в слова\n",
    "reverse_word_index = dict([(value, key) for (key, value) in word_index.items()]) \n",
    "# Декодирование отзыва. Индексы смещены на 3, тк. индексы 0,1,2 зарезеривированы для служебных слов*\n",
    "decoded_review = ' '.join([reverse_word_index.get(i-3, '?') for i in train_data[0]])\n",
    "\n",
    "print(decoded_review)\n",
    "# *служебные слова: отступ (padding), начало последовательности (start_of_sequence), неизвестно (unknown)"
   ]
  },
  {
   "cell_type": "code",
   "execution_count": 4,
   "metadata": {},
   "outputs": [
    {
     "data": {
      "text/plain": [
       "array([[0., 1., 1., ..., 0., 0., 0.],\n",
       "       [0., 1., 1., ..., 0., 0., 0.],\n",
       "       [0., 1., 1., ..., 0., 0., 0.],\n",
       "       ...,\n",
       "       [0., 1., 1., ..., 0., 0., 0.],\n",
       "       [0., 1., 1., ..., 0., 0., 0.],\n",
       "       [0., 1., 1., ..., 0., 0., 0.]])"
      ]
     },
     "execution_count": 4,
     "metadata": {},
     "output_type": "execute_result"
    }
   ],
   "source": [
    "import numpy as np\n",
    "\n",
    "def vectorize_sequences(sequences, dimension=10000):\n",
    "    \"\"\"Векторизуем последовательности целых чисел в бинарную матрицу (тензор)\"\"\"\n",
    "    \n",
    "    results = np.zeros((len(sequences), dimension))\n",
    "    for i, sequence in enumerate(sequences):\n",
    "        results[i, sequence] = 1.\n",
    "    return results\n",
    "\n",
    "x_train = vectorize_sequences(train_data)\n",
    "x_test = vectorize_sequences(test_data)\n",
    "x_train[:10]"
   ]
  },
  {
   "cell_type": "code",
   "execution_count": 5,
   "metadata": {},
   "outputs": [],
   "source": [
    "# Векторизуем метки\n",
    "y_train = np.asarray(train_labels).astype('float32')\n",
    "y_test = np.asarray(test_labels).astype('float32')"
   ]
  },
  {
   "cell_type": "markdown",
   "metadata": {},
   "source": [
    "### Построение НС"
   ]
  },
  {
   "cell_type": "code",
   "execution_count": 6,
   "metadata": {},
   "outputs": [],
   "source": [
    "from keras import models\n",
    "from keras import layers\n",
    "\n",
    "\n",
    "model = models.Sequential()\n",
    "model.add(layers.Dense(16, activation='relu', input_shape=(10000,)))\n",
    "model.add(layers.Dense(16, activation='relu'))\n",
    "model.add(layers.Dense(1, activation='sigmoid'))"
   ]
  },
  {
   "cell_type": "markdown",
   "metadata": {},
   "source": [
    "<img src=\"images/4.png\" width=200>"
   ]
  },
  {
   "cell_type": "markdown",
   "metadata": {},
   "source": [
    "### Компиляция модели"
   ]
  },
  {
   "cell_type": "code",
   "execution_count": 13,
   "metadata": {},
   "outputs": [],
   "source": [
    "from keras import optimizers\n",
    "\n",
    "model.compile(optimizer='rmsprop',   # оптимизатор\n",
    "              loss='binary_crossentropy',   # функция потерь\n",
    "              metrics=['acc'])"
   ]
  },
  {
   "cell_type": "markdown",
   "metadata": {},
   "source": [
    "*(или)* Использование нестандартных функций потерь и метрик"
   ]
  },
  {
   "cell_type": "code",
   "execution_count": 14,
   "metadata": {},
   "outputs": [],
   "source": [
    "from keras import losses\n",
    "from keras import metrics\n",
    "\n",
    "model.compile(optimizer=optimizers.RMSprop(lr=0.001),\n",
    "              loss=losses.binary_crossentropy,\n",
    "              metrics=[metrics.binary_accuracy])"
   ]
  },
  {
   "cell_type": "markdown",
   "metadata": {},
   "source": [
    "### Создание проверочного набора"
   ]
  },
  {
   "cell_type": "code",
   "execution_count": 15,
   "metadata": {},
   "outputs": [],
   "source": [
    "# Создание проверочного набора\n",
    "x_val = x_train[:10000]\n",
    "partial_x_train = x_train[10000:]\n",
    "\n",
    "y_val = y_train[:10000]\n",
    "partial_y_train = y_train[10000:]"
   ]
  },
  {
   "cell_type": "markdown",
   "metadata": {},
   "source": [
    "### Обучение модели"
   ]
  },
  {
   "cell_type": "code",
   "execution_count": 16,
   "metadata": {},
   "outputs": [
    {
     "name": "stdout",
     "output_type": "stream",
     "text": [
      "Train on 15000 samples, validate on 10000 samples\n",
      "Epoch 1/20\n",
      "15000/15000 [==============================] - 3s 215us/step - loss: 0.0091 - binary_accuracy: 0.9979 - val_loss: 0.7436 - val_binary_accuracy: 0.8645\n",
      "Epoch 2/20\n",
      "15000/15000 [==============================] - 2s 142us/step - loss: 0.0046 - binary_accuracy: 0.9992 - val_loss: 0.7744 - val_binary_accuracy: 0.8648\n",
      "Epoch 3/20\n",
      "15000/15000 [==============================] - 2s 134us/step - loss: 0.0020 - binary_accuracy: 0.9999 - val_loss: 0.7986 - val_binary_accuracy: 0.8642\n",
      "Epoch 4/20\n",
      "15000/15000 [==============================] - 2s 132us/step - loss: 0.0064 - binary_accuracy: 0.9981 - val_loss: 0.8306 - val_binary_accuracy: 0.8625\n",
      "Epoch 5/20\n",
      "15000/15000 [==============================] - 2s 132us/step - loss: 0.0011 - binary_accuracy: 0.9999 - val_loss: 0.8473 - val_binary_accuracy: 0.8617\n",
      "Epoch 6/20\n",
      "15000/15000 [==============================] - 2s 132us/step - loss: 0.0043 - binary_accuracy: 0.9989 - val_loss: 0.8839 - val_binary_accuracy: 0.8614\n",
      "Epoch 7/20\n",
      "15000/15000 [==============================] - 2s 134us/step - loss: 7.7932e-04 - binary_accuracy: 0.9999 - val_loss: 0.8913 - val_binary_accuracy: 0.8616\n",
      "Epoch 8/20\n",
      "15000/15000 [==============================] - 2s 134us/step - loss: 6.3942e-04 - binary_accuracy: 0.9999 - val_loss: 0.9186 - val_binary_accuracy: 0.8596\n",
      "Epoch 9/20\n",
      "15000/15000 [==============================] - 2s 133us/step - loss: 0.0052 - binary_accuracy: 0.9987 - val_loss: 0.9531 - val_binary_accuracy: 0.8593\n",
      "Epoch 10/20\n",
      "15000/15000 [==============================] - 2s 134us/step - loss: 3.6405e-04 - binary_accuracy: 1.0000 - val_loss: 0.9639 - val_binary_accuracy: 0.8582\n",
      "Epoch 11/20\n",
      "15000/15000 [==============================] - 2s 136us/step - loss: 3.0406e-04 - binary_accuracy: 1.0000 - val_loss: 0.9930 - val_binary_accuracy: 0.8588\n",
      "Epoch 12/20\n",
      "15000/15000 [==============================] - 2s 137us/step - loss: 0.0028 - binary_accuracy: 0.9991 - val_loss: 1.0217 - val_binary_accuracy: 0.8598\n",
      "Epoch 13/20\n",
      "15000/15000 [==============================] - 2s 138us/step - loss: 1.9235e-04 - binary_accuracy: 1.0000 - val_loss: 1.0319 - val_binary_accuracy: 0.8587\n",
      "Epoch 14/20\n",
      "15000/15000 [==============================] - 2s 135us/step - loss: 1.5933e-04 - binary_accuracy: 1.0000 - val_loss: 1.0493 - val_binary_accuracy: 0.8573\n",
      "Epoch 15/20\n",
      "15000/15000 [==============================] - 2s 152us/step - loss: 1.2611e-04 - binary_accuracy: 1.0000 - val_loss: 1.1037 - val_binary_accuracy: 0.8567\n",
      "Epoch 16/20\n",
      "15000/15000 [==============================] - 2s 149us/step - loss: 0.0019 - binary_accuracy: 0.9993 - val_loss: 1.1230 - val_binary_accuracy: 0.8579\n",
      "Epoch 17/20\n",
      "15000/15000 [==============================] - 2s 134us/step - loss: 6.6367e-05 - binary_accuracy: 1.0000 - val_loss: 1.1315 - val_binary_accuracy: 0.8570\n",
      "Epoch 18/20\n",
      "15000/15000 [==============================] - 2s 135us/step - loss: 5.7507e-05 - binary_accuracy: 1.0000 - val_loss: 1.1486 - val_binary_accuracy: 0.8566\n",
      "Epoch 19/20\n",
      "15000/15000 [==============================] - 2s 138us/step - loss: 4.5048e-05 - binary_accuracy: 1.0000 - val_loss: 1.2151 - val_binary_accuracy: 0.8532\n",
      "Epoch 20/20\n",
      "15000/15000 [==============================] - 2s 137us/step - loss: 0.0027 - binary_accuracy: 0.9993 - val_loss: 1.1878 - val_binary_accuracy: 0.8570\n"
     ]
    }
   ],
   "source": [
    "history = model.fit(partial_x_train,\n",
    "                    partial_y_train,\n",
    "                    epochs=20,\n",
    "                    batch_size=512,\n",
    "                    validation_data=(x_val, y_val))"
   ]
  },
  {
   "cell_type": "code",
   "execution_count": 19,
   "metadata": {},
   "outputs": [
    {
     "data": {
      "image/png": "[encoded data removed]",
      "text/plain": [
       "<Figure size 432x288 with 1 Axes>"
      ]
     },
     "metadata": {
      "needs_background": "light"
     },
     "output_type": "display_data"
    }
   ],
   "source": [
    "import matplotlib.pyplot as plt\n",
    "\n",
    "history_dict = history.history\n",
    "loss_values = history_dict['loss']\n",
    "val_loss_values = history_dict['val_loss']\n",
    "\n",
    "epochs = range(1, 20+1) # Количество эпох = 20\n",
    "\n",
    "plt.plot(epochs, loss_values, 'bo', label='Потери на этапе обучения')\n",
    "plt.plot(epochs, val_loss_values, 'b', label='Потери на этапе проверки')\n",
    "plt.title('Training and validation loss')\n",
    "plt.legend()\n",
    "plt.grid()\n",
    "plt.xlabel('Эпохи')\n",
    "plt.ylabel('Потери')\n",
    "plt.show()"
   ]
  },
  {
   "cell_type": "code",
   "execution_count": 25,
   "metadata": {},
   "outputs": [
    {
     "name": "stdout",
     "output_type": "stream",
     "text": [
      "dict_keys(['val_loss', 'val_binary_accuracy', 'loss', 'binary_accuracy'])\n"
     ]
    },
    {
     "data": {
      "text/plain": [
       "<matplotlib.legend.Legend at 0xb3e475d68>"
      ]
     },
     "execution_count": 25,
     "metadata": {},
     "output_type": "execute_result"
    },
    {
     "data": {
      "image/png": "[encoded data removed]",
      "text/plain": [
       "<Figure size 432x288 with 1 Axes>"
      ]
     },
     "metadata": {
      "needs_background": "light"
     },
     "output_type": "display_data"
    }
   ],
   "source": [
    "plt.clf()   # Очистить рисунок\n",
    "history_dict = history.history\n",
    "print(history_dict.keys())\n",
    "acc_values = history_dict['binary_accuracy']   # значения точности\n",
    "val_acc_values = history_dict['val_binary_accuracy']\n",
    "plt.plot(epochs, acc_values, 'bo', label='Точность на этапе обучения')\n",
    "plt.plot(epochs, val_acc_values, 'b', label='Точность на этапе проверки')\n",
    "plt.grid()\n",
    "plt.xlabel('Эпохи')\n",
    "plt.ylabel('Потери')\n",
    "plt.legend()\n"
   ]
  },
  {
   "cell_type": "markdown",
   "metadata": {},
   "source": [
    "В данном случае для предотвращения переобучения можно прекратить обучение после третьей эпохи. \n",
    "\n",
    "А теперь обучим новую сеть с нуля в течение четырех эпох и затем оценим получившийся результат на контрольных данных."
   ]
  },
  {
   "cell_type": "code",
   "execution_count": 26,
   "metadata": {},
   "outputs": [
    {
     "name": "stdout",
     "output_type": "stream",
     "text": [
      "Epoch 1/4\n",
      "25000/25000 [==============================] - 4s 148us/step - loss: 0.4632 - acc: 0.8182\n",
      "Epoch 2/4\n",
      "25000/25000 [==============================] - 2s 98us/step - loss: 0.2659 - acc: 0.9061\n",
      "Epoch 3/4\n",
      "25000/25000 [==============================] - 2s 93us/step - loss: 0.2045 - acc: 0.9274\n",
      "Epoch 4/4\n",
      "25000/25000 [==============================] - 2s 93us/step - loss: 0.1704 - acc: 0.9398\n",
      "25000/25000 [==============================] - 4s 166us/step\n"
     ]
    },
    {
     "data": {
      "text/plain": [
       "[0.2901001516342163, 0.88508]"
      ]
     },
     "execution_count": 26,
     "metadata": {},
     "output_type": "execute_result"
    }
   ],
   "source": [
    "from keras import models\n",
    "from keras import layers\n",
    "\n",
    "\"\"\"\n",
    "Для многоклассовой классификации:\n",
    "Если вы пытаетесь классифицировать образцы данных по N классам, сеть должна завершаться слоем Dense размера N.\n",
    "В задаче однозначной многоклассовой классификации заключительный слой сети должен иметь функцию активации softmax, \n",
    "чтобы он мог выводить распределение вероятностей между N классами.\n",
    "\"\"\"\n",
    "\n",
    "model = models.Sequential()\n",
    "model.add(layers.Dense(16, activation='relu', input_shape=(10000,)))\n",
    "model.add(layers.Dense(16, activation='relu'))\n",
    "model.add(layers.Dense(1, activation='sigmoid'))\n",
    "\n",
    "model.compile(optimizer='rmsprop',\n",
    "              loss='binary_crossentropy',   # минимизирует расстояние между распределениями вероятностей, \n",
    "                                            # выводимыми сетью, и истинными распределениями целей.\n",
    "              metrics=['accuracy'])\n",
    "\n",
    "model.fit(x_train, y_train, epochs=4, batch_size=512)\n",
    "results = model.evaluate(x_test, y_test)\n",
    "results"
   ]
  },
  {
   "cell_type": "markdown",
   "metadata": {},
   "source": [
    "Точность достигла 88,5%."
   ]
  },
  {
   "cell_type": "code",
   "execution_count": null,
   "metadata": {},
   "outputs": [],
   "source": []
  },
  {
   "cell_type": "code",
   "execution_count": null,
   "metadata": {},
   "outputs": [],
   "source": []
  },
  {
   "cell_type": "markdown",
   "metadata": {},
   "source": [
    "После обучения сети её можно использовать для решения практчиеских задач. Например, попробуем предсказать вероятность того, что отзывы будут положительными, с помощью метода **predict**."
   ]
  },
  {
   "cell_type": "code",
   "execution_count": 27,
   "metadata": {},
   "outputs": [
    {
     "data": {
      "text/plain": [
       "array([[0.22788945],\n",
       "       [0.9996556 ],\n",
       "       [0.9347396 ],\n",
       "       ...,\n",
       "       [0.12438802],\n",
       "       [0.06602532],\n",
       "       [0.68543947]], dtype=float32)"
      ]
     },
     "execution_count": 27,
     "metadata": {},
     "output_type": "execute_result"
    }
   ],
   "source": [
    "model.predict(x_test)"
   ]
  },
  {
   "cell_type": "code",
   "execution_count": null,
   "metadata": {},
   "outputs": [],
   "source": []
  }
 ],
 "metadata": {
  "kernelspec": {
   "display_name": "Python 3",
   "language": "python",
   "name": "python3"
  },
  "language_info": {
   "codemirror_mode": {
    "name": "ipython",
    "version": 3
   },
   "file_extension": ".py",
   "mimetype": "text/x-python",
   "name": "python",
   "nbconvert_exporter": "python",
   "pygments_lexer": "ipython3",
   "version": "3.6.6"
  }
 },
 "nbformat": 4,
 "nbformat_minor": 2
}
