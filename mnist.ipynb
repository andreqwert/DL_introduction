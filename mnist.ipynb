{
  "nbformat": 4,
  "nbformat_minor": 0,
  "metadata": {
    "colab": {
      "name": "mnist1.ipynb",
      "version": "0.3.2",
      "views": {},
      "default_view": {},
      "provenance": [],
      "collapsed_sections": []
    },
    "kernelspec": {
      "name": "python3",
      "display_name": "Python 3"
    }
  },
  "cells": [
    {
      "metadata": {
        "id": "kPJ4FldUImJw",
        "colab_type": "code",
        "colab": {
          "autoexec": {
            "startup": false,
            "wait_interval": 0
          }
        }
      },
      "cell_type": "code",
      "source": [
        "import numpy as np\n",
        "from keras.datasets import mnist\n",
        "from keras.models import Sequential # нейронная сеть, слои которой соединены друг с другом\n",
        "from keras.layers import Dense # тип слоёв\n",
        "from keras.utils import np_utils # для работы с массивами"
      ],
      "execution_count": 0,
      "outputs": []
    },
    {
      "metadata": {
        "id": "p1gf8ixCJBPN",
        "colab_type": "code",
        "colab": {
          "autoexec": {
            "startup": false,
            "wait_interval": 0
          }
        }
      },
      "cell_type": "code",
      "source": [
        "# Устанавливаем seed для повторяемости результатов\n",
        "np.random.seed(42)"
      ],
      "execution_count": 0,
      "outputs": []
    },
    {
      "metadata": {
        "id": "FMJB2auGJJST",
        "colab_type": "code",
        "colab": {
          "autoexec": {
            "startup": false,
            "wait_interval": 0
          }
        }
      },
      "cell_type": "code",
      "source": [
        "# Загружаем данные\n",
        "(X_train, y_train), (X_test, y_test) = mnist.load_data()\n",
        "\n",
        "# X_train - данные с картинками\n",
        "# y_train - метки для картинок"
      ],
      "execution_count": 0,
      "outputs": []
    },
    {
      "metadata": {
        "id": "YVQWd6QXJVBP",
        "colab_type": "code",
        "colab": {
          "autoexec": {
            "startup": false,
            "wait_interval": 0
          }
        }
      },
      "cell_type": "code",
      "source": [
        "# Преобразование размерности изображений\n",
        "X_train = X_train.reshape(60000, 784) # 60000 изображений (строчек) на 784 столбца (пикселя)\n",
        "X_test = X_test.reshape(10000, 784)\n",
        "\n",
        "# Нормализация данных\n",
        "X_train = X_train.astype('float32')\n",
        "X_test = X_test.astype('float32')\n",
        "X_train /= 255 # диапазон данных будет от 0 до 1\n",
        "X_test /= 255"
      ],
      "execution_count": 0,
      "outputs": []
    },
    {
      "metadata": {
        "id": "u8sRVZkTJ_kh",
        "colab_type": "code",
        "colab": {
          "autoexec": {
            "startup": false,
            "wait_interval": 0
          }
        }
      },
      "cell_type": "code",
      "source": [
        "# Преобразуем метки в категории\n",
        "\"\"\"\n",
        "10 классов -> нужно представить массив в таком виде, чтобы правильный ответ был единицей в \n",
        "массиве, состоящем из нулей. То есть если правильным ответом является третий, то будет что-то\n",
        "вроде:\n",
        "\n",
        "[0, 0, 1, 0, 0, 0, 0, 0, 0, 0]\n",
        "\n",
        "\"\"\"\n",
        "y_train = np_utils.to_categorical(y_train, 10) # 10 - количество классов\n",
        "y_test = np_utils.to_categorical(y_test, 10)"
      ],
      "execution_count": 0,
      "outputs": []
    },
    {
      "metadata": {
        "id": "w9D6O1C-MLpE",
        "colab_type": "code",
        "colab": {
          "autoexec": {
            "startup": false,
            "wait_interval": 0
          }
        }
      },
      "cell_type": "code",
      "source": [
        "# Создаём модель нейронной сети, где слои нерйонной сети идут друг за другом\n",
        "model = Sequential()"
      ],
      "execution_count": 0,
      "outputs": []
    },
    {
      "metadata": {
        "id": "wrgNIdupMXE9",
        "colab_type": "code",
        "colab": {
          "autoexec": {
            "startup": false,
            "wait_interval": 0
          }
        }
      },
      "cell_type": "code",
      "source": [
        "\"\"\"\n",
        "В модель добавляем два слоя.\n",
        "На первом входном слое 800 нейронов. У каждого из 800 нейронов 784 входа по колчиеству пикелей во\n",
        "входном изображений. Веса инициализируются случайно с помощью нормального распределения.\n",
        "\"\"\"\n",
        "model.add(Dense(800, input_dim=784, kernel_initializer='normal', activation='relu'))\n",
        "# Второй слой\n",
        "model.add(Dense(10, kernel_initializer='normal', activation='softmax'))\n",
        "\n",
        "# Dense --> проихсодит соединение нейронов одного уровня с нейронами следующего уровня\n"
      ],
      "execution_count": 0,
      "outputs": []
    },
    {
      "metadata": {
        "id": "jJ4gzWjqOGPx",
        "colab_type": "code",
        "colab": {
          "autoexec": {
            "startup": false,
            "wait_interval": 0
          },
          "base_uri": "https://localhost:8080/",
          "height": 221
        },
        "outputId": "767429ed-00b5-4e97-c40d-3665dc7e6e5e",
        "executionInfo": {
          "status": "ok",
          "timestamp": 1524183362171,
          "user_tz": -180,
          "elapsed": 739,
          "user": {
            "displayName": "Андрей Асланов",
            "photoUrl": "https://lh3.googleusercontent.com/a/default-user=s128",
            "userId": "111765982804595539228"
          }
        }
      },
      "cell_type": "code",
      "source": [
        "# Компилируем модель\n",
        "# Метод обучения - стохастический градиентный спуск\n",
        "# Мера ошибки - категориальнвя кроссэнтропия - лучше подходит в качестве меры ошибки, когда в качестве выходного значения есть несколько категорий.\n",
        "# Метрика ошибки - точность\n",
        "model.compile(loss='categorical_crossentropy', optimizer='SGD', metrics=['accuracy'])\n",
        "print(model.summary())"
      ],
      "execution_count": 19,
      "outputs": [
        {
          "output_type": "stream",
          "text": [
            "_________________________________________________________________\n",
            "Layer (type)                 Output Shape              Param #   \n",
            "=================================================================\n",
            "dense_4 (Dense)              (None, 800)               628000    \n",
            "_________________________________________________________________\n",
            "dense_5 (Dense)              (None, 10)                8010      \n",
            "=================================================================\n",
            "Total params: 636,010\n",
            "Trainable params: 636,010\n",
            "Non-trainable params: 0\n",
            "_________________________________________________________________\n",
            "None\n"
          ],
          "name": "stdout"
        }
      ]
    },
    {
      "metadata": {
        "id": "v0Xg7A-qOPRh",
        "colab_type": "code",
        "colab": {
          "autoexec": {
            "startup": false,
            "wait_interval": 0
          },
          "base_uri": "https://localhost:8080/",
          "height": 3451
        },
        "outputId": "d0d1463d-3077-428a-f1d6-bf124a9705c8",
        "executionInfo": {
          "status": "ok",
          "timestamp": 1524183207485,
          "user_tz": -180,
          "elapsed": 1256388,
          "user": {
            "displayName": "Андрей Асланов",
            "photoUrl": "https://lh3.googleusercontent.com/a/default-user=s128",
            "userId": "111765982804595539228"
          }
        }
      },
      "cell_type": "code",
      "source": [
        "# Обучаем сеть\n",
        "# Анализиуем 200 изображений -> вычисляем градмент -> изменяем веса\n",
        "model.fit(X_train, y_train, batch_size=200, epochs=100, validation_split=0.2, verbose=2)"
      ],
      "execution_count": 11,
      "outputs": [
        {
          "output_type": "stream",
          "text": [
            "Train on 48000 samples, validate on 12000 samples\n",
            "Epoch 1/100\n",
            " - 12s - loss: 1.1300 - acc: 0.7398 - val_loss: 0.5826 - val_acc: 0.8714\n",
            "Epoch 2/100\n",
            " - 13s - loss: 0.5078 - acc: 0.8755 - val_loss: 0.4067 - val_acc: 0.8947\n",
            "Epoch 3/100\n",
            " - 13s - loss: 0.4000 - acc: 0.8943 - val_loss: 0.3465 - val_acc: 0.9074\n",
            "Epoch 4/100\n",
            " - 13s - loss: 0.3518 - acc: 0.9041 - val_loss: 0.3154 - val_acc: 0.9151\n",
            "Epoch 5/100\n",
            " - 13s - loss: 0.3229 - acc: 0.9099 - val_loss: 0.2934 - val_acc: 0.9198\n",
            "Epoch 6/100\n",
            " - 13s - loss: 0.3019 - acc: 0.9157 - val_loss: 0.2788 - val_acc: 0.9233\n",
            "Epoch 7/100\n",
            " - 13s - loss: 0.2856 - acc: 0.9203 - val_loss: 0.2654 - val_acc: 0.9253\n",
            "Epoch 8/100\n",
            " - 13s - loss: 0.2724 - acc: 0.9238 - val_loss: 0.2552 - val_acc: 0.9286\n",
            "Epoch 9/100\n",
            " - 13s - loss: 0.2608 - acc: 0.9267 - val_loss: 0.2462 - val_acc: 0.9298\n",
            "Epoch 10/100\n",
            " - 12s - loss: 0.2507 - acc: 0.9293 - val_loss: 0.2392 - val_acc: 0.9328\n",
            "Epoch 11/100\n",
            " - 13s - loss: 0.2416 - acc: 0.9325 - val_loss: 0.2323 - val_acc: 0.9336\n",
            "Epoch 12/100\n",
            " - 13s - loss: 0.2336 - acc: 0.9349 - val_loss: 0.2247 - val_acc: 0.9358\n",
            "Epoch 13/100\n",
            " - 13s - loss: 0.2261 - acc: 0.9369 - val_loss: 0.2189 - val_acc: 0.9388\n",
            "Epoch 14/100\n",
            " - 12s - loss: 0.2192 - acc: 0.9386 - val_loss: 0.2125 - val_acc: 0.9415\n",
            "Epoch 15/100\n",
            " - 13s - loss: 0.2125 - acc: 0.9409 - val_loss: 0.2084 - val_acc: 0.9417\n",
            "Epoch 16/100\n",
            " - 13s - loss: 0.2062 - acc: 0.9425 - val_loss: 0.2037 - val_acc: 0.9429\n",
            "Epoch 17/100\n",
            " - 13s - loss: 0.2008 - acc: 0.9441 - val_loss: 0.1993 - val_acc: 0.9448\n",
            "Epoch 18/100\n",
            " - 13s - loss: 0.1953 - acc: 0.9457 - val_loss: 0.1938 - val_acc: 0.9463\n",
            "Epoch 19/100\n",
            " - 13s - loss: 0.1901 - acc: 0.9473 - val_loss: 0.1896 - val_acc: 0.9474\n",
            "Epoch 20/100\n",
            " - 12s - loss: 0.1850 - acc: 0.9491 - val_loss: 0.1859 - val_acc: 0.9482\n",
            "Epoch 21/100\n",
            " - 13s - loss: 0.1804 - acc: 0.9500 - val_loss: 0.1821 - val_acc: 0.9505\n",
            "Epoch 22/100\n",
            " - 13s - loss: 0.1759 - acc: 0.9513 - val_loss: 0.1786 - val_acc: 0.9510\n",
            "Epoch 23/100\n",
            " - 13s - loss: 0.1718 - acc: 0.9521 - val_loss: 0.1756 - val_acc: 0.9513\n",
            "Epoch 24/100\n",
            " - 12s - loss: 0.1676 - acc: 0.9532 - val_loss: 0.1731 - val_acc: 0.9519\n",
            "Epoch 25/100\n",
            " - 12s - loss: 0.1637 - acc: 0.9545 - val_loss: 0.1690 - val_acc: 0.9536\n",
            "Epoch 26/100\n",
            " - 12s - loss: 0.1599 - acc: 0.9554 - val_loss: 0.1677 - val_acc: 0.9529\n",
            "Epoch 27/100\n",
            " - 12s - loss: 0.1562 - acc: 0.9573 - val_loss: 0.1636 - val_acc: 0.9545\n",
            "Epoch 28/100\n",
            " - 12s - loss: 0.1528 - acc: 0.9579 - val_loss: 0.1612 - val_acc: 0.9547\n",
            "Epoch 29/100\n",
            " - 13s - loss: 0.1493 - acc: 0.9589 - val_loss: 0.1580 - val_acc: 0.9551\n",
            "Epoch 30/100\n",
            " - 12s - loss: 0.1461 - acc: 0.9601 - val_loss: 0.1562 - val_acc: 0.9567\n",
            "Epoch 31/100\n",
            " - 12s - loss: 0.1430 - acc: 0.9605 - val_loss: 0.1552 - val_acc: 0.9567\n",
            "Epoch 32/100\n",
            " - 12s - loss: 0.1399 - acc: 0.9615 - val_loss: 0.1520 - val_acc: 0.9573\n",
            "Epoch 33/100\n",
            " - 12s - loss: 0.1373 - acc: 0.9621 - val_loss: 0.1495 - val_acc: 0.9575\n",
            "Epoch 34/100\n"
          ],
          "name": "stdout"
        },
        {
          "output_type": "stream",
          "text": [
            " - 12s - loss: 0.1346 - acc: 0.9632 - val_loss: 0.1468 - val_acc: 0.9591\n",
            "Epoch 35/100\n",
            " - 13s - loss: 0.1317 - acc: 0.9642 - val_loss: 0.1455 - val_acc: 0.9582\n",
            "Epoch 36/100\n",
            " - 12s - loss: 0.1292 - acc: 0.9654 - val_loss: 0.1431 - val_acc: 0.9594\n",
            "Epoch 37/100\n",
            " - 12s - loss: 0.1266 - acc: 0.9660 - val_loss: 0.1410 - val_acc: 0.9604\n",
            "Epoch 38/100\n",
            " - 12s - loss: 0.1242 - acc: 0.9662 - val_loss: 0.1400 - val_acc: 0.9608\n",
            "Epoch 39/100\n",
            " - 13s - loss: 0.1218 - acc: 0.9671 - val_loss: 0.1379 - val_acc: 0.9618\n",
            "Epoch 40/100\n",
            " - 12s - loss: 0.1195 - acc: 0.9677 - val_loss: 0.1361 - val_acc: 0.9617\n",
            "Epoch 41/100\n",
            " - 12s - loss: 0.1173 - acc: 0.9685 - val_loss: 0.1360 - val_acc: 0.9613\n",
            "Epoch 42/100\n",
            " - 12s - loss: 0.1151 - acc: 0.9691 - val_loss: 0.1329 - val_acc: 0.9622\n",
            "Epoch 43/100\n",
            " - 12s - loss: 0.1129 - acc: 0.9694 - val_loss: 0.1315 - val_acc: 0.9621\n",
            "Epoch 44/100\n",
            " - 12s - loss: 0.1109 - acc: 0.9701 - val_loss: 0.1306 - val_acc: 0.9630\n",
            "Epoch 45/100\n",
            " - 12s - loss: 0.1089 - acc: 0.9705 - val_loss: 0.1296 - val_acc: 0.9630\n",
            "Epoch 46/100\n",
            " - 13s - loss: 0.1069 - acc: 0.9714 - val_loss: 0.1276 - val_acc: 0.9632\n",
            "Epoch 47/100\n",
            " - 13s - loss: 0.1050 - acc: 0.9719 - val_loss: 0.1261 - val_acc: 0.9644\n",
            "Epoch 48/100\n",
            " - 13s - loss: 0.1033 - acc: 0.9724 - val_loss: 0.1248 - val_acc: 0.9639\n",
            "Epoch 49/100\n",
            " - 13s - loss: 0.1015 - acc: 0.9724 - val_loss: 0.1241 - val_acc: 0.9648\n",
            "Epoch 50/100\n",
            " - 13s - loss: 0.0998 - acc: 0.9735 - val_loss: 0.1228 - val_acc: 0.9649\n",
            "Epoch 51/100\n",
            " - 13s - loss: 0.0981 - acc: 0.9740 - val_loss: 0.1222 - val_acc: 0.9658\n",
            "Epoch 52/100\n",
            " - 12s - loss: 0.0964 - acc: 0.9743 - val_loss: 0.1210 - val_acc: 0.9656\n",
            "Epoch 53/100\n",
            " - 13s - loss: 0.0949 - acc: 0.9748 - val_loss: 0.1203 - val_acc: 0.9657\n",
            "Epoch 54/100\n",
            " - 12s - loss: 0.0933 - acc: 0.9749 - val_loss: 0.1188 - val_acc: 0.9664\n",
            "Epoch 55/100\n",
            " - 13s - loss: 0.0917 - acc: 0.9757 - val_loss: 0.1178 - val_acc: 0.9670\n",
            "Epoch 56/100\n",
            " - 13s - loss: 0.0902 - acc: 0.9758 - val_loss: 0.1165 - val_acc: 0.9670\n",
            "Epoch 57/100\n",
            " - 13s - loss: 0.0887 - acc: 0.9766 - val_loss: 0.1164 - val_acc: 0.9669\n",
            "Epoch 58/100\n",
            " - 13s - loss: 0.0874 - acc: 0.9768 - val_loss: 0.1146 - val_acc: 0.9683\n",
            "Epoch 59/100\n",
            " - 13s - loss: 0.0860 - acc: 0.9774 - val_loss: 0.1142 - val_acc: 0.9669\n",
            "Epoch 60/100\n",
            " - 13s - loss: 0.0847 - acc: 0.9775 - val_loss: 0.1133 - val_acc: 0.9678\n",
            "Epoch 61/100\n",
            " - 13s - loss: 0.0833 - acc: 0.9778 - val_loss: 0.1124 - val_acc: 0.9683\n",
            "Epoch 62/100\n",
            " - 13s - loss: 0.0819 - acc: 0.9782 - val_loss: 0.1128 - val_acc: 0.9676\n",
            "Epoch 63/100\n",
            " - 13s - loss: 0.0807 - acc: 0.9789 - val_loss: 0.1115 - val_acc: 0.9685\n",
            "Epoch 64/100\n",
            " - 13s - loss: 0.0795 - acc: 0.9791 - val_loss: 0.1104 - val_acc: 0.9686\n",
            "Epoch 65/100\n",
            " - 13s - loss: 0.0784 - acc: 0.9796 - val_loss: 0.1100 - val_acc: 0.9687\n",
            "Epoch 66/100\n",
            " - 13s - loss: 0.0772 - acc: 0.9796 - val_loss: 0.1083 - val_acc: 0.9696\n",
            "Epoch 67/100\n",
            " - 13s - loss: 0.0760 - acc: 0.9800 - val_loss: 0.1085 - val_acc: 0.9693\n"
          ],
          "name": "stdout"
        },
        {
          "output_type": "stream",
          "text": [
            "Epoch 68/100\n",
            " - 12s - loss: 0.0750 - acc: 0.9804 - val_loss: 0.1075 - val_acc: 0.9698\n",
            "Epoch 69/100\n",
            " - 12s - loss: 0.0738 - acc: 0.9808 - val_loss: 0.1065 - val_acc: 0.9703\n",
            "Epoch 70/100\n",
            " - 12s - loss: 0.0726 - acc: 0.9811 - val_loss: 0.1062 - val_acc: 0.9699\n",
            "Epoch 71/100\n",
            " - 12s - loss: 0.0717 - acc: 0.9814 - val_loss: 0.1052 - val_acc: 0.9703\n",
            "Epoch 72/100\n",
            " - 13s - loss: 0.0706 - acc: 0.9815 - val_loss: 0.1047 - val_acc: 0.9701\n",
            "Epoch 73/100\n",
            " - 12s - loss: 0.0695 - acc: 0.9819 - val_loss: 0.1041 - val_acc: 0.9698\n",
            "Epoch 74/100\n",
            " - 13s - loss: 0.0685 - acc: 0.9823 - val_loss: 0.1040 - val_acc: 0.9701\n",
            "Epoch 75/100\n",
            " - 12s - loss: 0.0676 - acc: 0.9825 - val_loss: 0.1025 - val_acc: 0.9702\n",
            "Epoch 76/100\n",
            " - 12s - loss: 0.0666 - acc: 0.9830 - val_loss: 0.1020 - val_acc: 0.9707\n",
            "Epoch 77/100\n",
            " - 12s - loss: 0.0657 - acc: 0.9832 - val_loss: 0.1016 - val_acc: 0.9711\n",
            "Epoch 78/100\n",
            " - 12s - loss: 0.0648 - acc: 0.9834 - val_loss: 0.1015 - val_acc: 0.9711\n",
            "Epoch 79/100\n",
            " - 12s - loss: 0.0639 - acc: 0.9836 - val_loss: 0.1005 - val_acc: 0.9717\n",
            "Epoch 80/100\n",
            " - 12s - loss: 0.0629 - acc: 0.9839 - val_loss: 0.1001 - val_acc: 0.9714\n",
            "Epoch 81/100\n",
            " - 12s - loss: 0.0620 - acc: 0.9843 - val_loss: 0.0996 - val_acc: 0.9713\n",
            "Epoch 82/100\n",
            " - 13s - loss: 0.0613 - acc: 0.9846 - val_loss: 0.0993 - val_acc: 0.9710\n",
            "Epoch 83/100\n",
            " - 13s - loss: 0.0605 - acc: 0.9846 - val_loss: 0.0982 - val_acc: 0.9720\n",
            "Epoch 84/100\n",
            " - 13s - loss: 0.0597 - acc: 0.9848 - val_loss: 0.0986 - val_acc: 0.9726\n",
            "Epoch 85/100\n",
            " - 13s - loss: 0.0588 - acc: 0.9855 - val_loss: 0.0970 - val_acc: 0.9733\n",
            "Epoch 86/100\n",
            " - 13s - loss: 0.0580 - acc: 0.9859 - val_loss: 0.0979 - val_acc: 0.9726\n",
            "Epoch 87/100\n",
            " - 13s - loss: 0.0572 - acc: 0.9857 - val_loss: 0.0971 - val_acc: 0.9730\n",
            "Epoch 88/100\n",
            " - 13s - loss: 0.0565 - acc: 0.9861 - val_loss: 0.0965 - val_acc: 0.9722\n",
            "Epoch 89/100\n",
            " - 13s - loss: 0.0557 - acc: 0.9864 - val_loss: 0.0957 - val_acc: 0.9728\n",
            "Epoch 90/100\n",
            " - 13s - loss: 0.0550 - acc: 0.9866 - val_loss: 0.0959 - val_acc: 0.9727\n",
            "Epoch 91/100\n",
            " - 13s - loss: 0.0543 - acc: 0.9866 - val_loss: 0.0952 - val_acc: 0.9728\n",
            "Epoch 92/100\n",
            " - 13s - loss: 0.0535 - acc: 0.9871 - val_loss: 0.0949 - val_acc: 0.9728\n",
            "Epoch 93/100\n",
            " - 13s - loss: 0.0529 - acc: 0.9872 - val_loss: 0.0944 - val_acc: 0.9737\n",
            "Epoch 94/100\n",
            " - 13s - loss: 0.0521 - acc: 0.9871 - val_loss: 0.0947 - val_acc: 0.9724\n",
            "Epoch 95/100\n",
            " - 13s - loss: 0.0515 - acc: 0.9875 - val_loss: 0.0937 - val_acc: 0.9733\n",
            "Epoch 96/100\n",
            " - 13s - loss: 0.0508 - acc: 0.9880 - val_loss: 0.0932 - val_acc: 0.9737\n",
            "Epoch 97/100\n",
            " - 13s - loss: 0.0501 - acc: 0.9883 - val_loss: 0.0927 - val_acc: 0.9731\n",
            "Epoch 98/100\n",
            " - 13s - loss: 0.0495 - acc: 0.9886 - val_loss: 0.0925 - val_acc: 0.9737\n",
            "Epoch 99/100\n",
            " - 13s - loss: 0.0489 - acc: 0.9886 - val_loss: 0.0924 - val_acc: 0.9738\n",
            "Epoch 100/100\n",
            " - 13s - loss: 0.0483 - acc: 0.9889 - val_loss: 0.0917 - val_acc: 0.9741\n"
          ],
          "name": "stdout"
        },
        {
          "output_type": "execute_result",
          "data": {
            "text/plain": [
              "<keras.callbacks.History at 0x7f9ba29872e8>"
            ]
          },
          "metadata": {
            "tags": []
          },
          "execution_count": 11
        }
      ]
    },
    {
      "metadata": {
        "id": "q25251r8UuH-",
        "colab_type": "code",
        "colab": {
          "autoexec": {
            "startup": false,
            "wait_interval": 0
          },
          "base_uri": "https://localhost:8080/",
          "height": 34
        },
        "outputId": "9c64b1be-94ee-48df-b0ca-ad4ae833e865",
        "executionInfo": {
          "status": "ok",
          "timestamp": 1524183367171,
          "user_tz": -180,
          "elapsed": 1435,
          "user": {
            "displayName": "Андрей Асланов",
            "photoUrl": "https://lh3.googleusercontent.com/a/default-user=s128",
            "userId": "111765982804595539228"
          }
        }
      },
      "cell_type": "code",
      "source": [
        "# Оцениваем качество сети на тестовых данных\n",
        "scores = model.evaluate(X_test, y_test, verbose=0)\n",
        "print('Точность работы на тестовых данных: {}%', scores[1]*100)"
      ],
      "execution_count": 20,
      "outputs": [
        {
          "output_type": "stream",
          "text": [
            "Точность работы на тестовых данных: {}% 8.82\n"
          ],
          "name": "stdout"
        }
      ]
    },
    {
      "metadata": {
        "id": "-bLIwHCxXLfl",
        "colab_type": "code",
        "colab": {
          "autoexec": {
            "startup": false,
            "wait_interval": 0
          }
        }
      },
      "cell_type": "code",
      "source": [
        "# Запускаем сеть на входных данных\n",
        "predictions = model.predict(X_train)\n",
        "\n",
        "# Преобразуем выходные данные сети из категорий в метки классов (цифры от 0 до 9)\n",
        "#predictions = np_utils.categorical_probas_to_classes(predictions)\n",
        "\n",
        "# Полученные метки можно сравнивать с правильными"
      ],
      "execution_count": 0,
      "outputs": []
    },
    {
      "metadata": {
        "id": "Bmh0yY67aHkC",
        "colab_type": "code",
        "colab": {
          "autoexec": {
            "startup": false,
            "wait_interval": 0
          }
        }
      },
      "cell_type": "code",
      "source": [
        ""
      ],
      "execution_count": 0,
      "outputs": []
    }
  ]
}
