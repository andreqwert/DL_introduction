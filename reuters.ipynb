{
 "cells": [
  {
   "cell_type": "markdown",
   "metadata": {},
   "source": [
    "# Reuters"
   ]
  },
  {
   "cell_type": "markdown",
   "metadata": {},
   "source": [
    "*Дано:* 8982 обучающих и 2246 контрольных примеров.    \n",
    "*Выполнить:* многоклассовую классификацию на 46 классов."
   ]
  },
  {
   "cell_type": "code",
   "execution_count": 1,
   "metadata": {},
   "outputs": [
    {
     "name": "stderr",
     "output_type": "stream",
     "text": [
      "Using TensorFlow backend.\n"
     ]
    }
   ],
   "source": [
    "from keras.datasets import reuters"
   ]
  },
  {
   "cell_type": "markdown",
   "metadata": {},
   "source": [
    "### Предобработка данных"
   ]
  },
  {
   "cell_type": "code",
   "execution_count": 2,
   "metadata": {},
   "outputs": [],
   "source": [
    "(train_data, train_labels), (test_data, test_labels) = reuters.load_data(num_words=10000)   # 10000 наиболее частых слов"
   ]
  },
  {
   "cell_type": "code",
   "execution_count": 4,
   "metadata": {},
   "outputs": [],
   "source": [
    "import numpy as np\n",
    "\n",
    "# Декодирование областей обратно в текст\n",
    "\n",
    "# word_index - это словарь, отображающий слова в целочисленные индексы\n",
    "word_index = reuters.get_word_index()\n",
    "# Получить обратное представление словаря, отображающее индексы в слова\n",
    "reverse_word_index = dict([(value, key) for (key, value) in word_index.items()])\n",
    "# Декодирование отзыва. Индексы смещены на 3, тк. индексы 0,1,2 зарезеривированы для служебных слов*\n",
    "decoded_newswire = ' '.join([reverse_word_index.get(i-3, '?') for i in train_data[0]])\n",
    "\n",
    "# *служебные слова: отступ (padding), начало последовательности (start_of_sequence), неизвестно (unknown)\n",
    "\n",
    "# Векторизуем метки\n",
    "y_train = np.asarray(train_labels).astype('float32')\n",
    "y_test = np.asarray(test_labels).astype('float32')"
   ]
  },
  {
   "cell_type": "code",
   "execution_count": 5,
   "metadata": {},
   "outputs": [],
   "source": [
    "import numpy as np\n",
    "\n",
    "def vectorize_sequences(sequences, dimension=10000):\n",
    "    \"\"\"Векторизуем последовательности целых чисел в бинарную матрицу (тензор)\"\"\"\n",
    "    \n",
    "    results = np.zeros((len(sequences), dimension))\n",
    "    for i, sequence in enumerate(sequences):\n",
    "        results[i, sequence] = 1.\n",
    "    return results\n",
    "\n",
    "x_train = vectorize_sequences(train_data)   # векторизованные обучающие данные\n",
    "x_test = vectorize_sequences(test_data)   # векторизованные контрольные данные"
   ]
  },
  {
   "cell_type": "code",
   "execution_count": 6,
   "metadata": {},
   "outputs": [],
   "source": [
    "# Для кодирования применяется One-hot encoding.\n",
    "def to_one_hot(labels, dimension=46):\n",
    "    results = np.zeros((len(labels), dimension))\n",
    "    for i, label in enumerate(labels):\n",
    "        results[i, label] = 1.\n",
    "    return results\n",
    "\n",
    "one_hot_train_labels = to_one_hot(train_labels)\n",
    "one_hot_test_labels = to_one_hot(test_labels)"
   ]
  },
  {
   "cell_type": "markdown",
   "metadata": {},
   "source": [
    "### Определение модели"
   ]
  },
  {
   "cell_type": "code",
   "execution_count": 7,
   "metadata": {},
   "outputs": [],
   "source": [
    "from keras import models\n",
    "from keras import layers\n",
    "\n",
    "model = models.Sequential()\n",
    "\n",
    "# Используется 64-мерное пространство для классификации на 46 классов.\n",
    "model.add(layers.Dense(64, activation='relu', input_shape=(10000,)))\n",
    "model.add(layers.Dense(64, activation='relu'))\n",
    "\n",
    "# Для каждого образца сеть выдаст 46-мерный вектор. Каждый элемент этого вектора представляет собой отдельный выходной класс\n",
    "# softmax будет выводить вероятности по 46 классам. Сумма 46 элементов будет равна 1.\n",
    "model.add(layers.Dense(46, activation='softmax'))"
   ]
  },
  {
   "cell_type": "markdown",
   "metadata": {},
   "source": [
    "### Компиляция модели"
   ]
  },
  {
   "cell_type": "code",
   "execution_count": 8,
   "metadata": {},
   "outputs": [],
   "source": [
    "from keras import losses\n",
    "from keras import metrics\n",
    "\n",
    "model.compile(optimizer='rmsprop',\n",
    "              loss='categorical_crossentropy',\n",
    "              metrics=['accuracy'])"
   ]
  },
  {
   "cell_type": "markdown",
   "metadata": {},
   "source": [
    "### Создание проверочного набора"
   ]
  },
  {
   "cell_type": "code",
   "execution_count": 16,
   "metadata": {},
   "outputs": [],
   "source": [
    "# Создание проверочного набора\n",
    "x_val = x_train[:1000]\n",
    "partial_x_train = x_train[1000:]\n",
    "\n",
    "y_val = one_hot_train_labels[:1000]\n",
    "partial_y_train = one_hot_train_labels[1000:]"
   ]
  },
  {
   "cell_type": "code",
   "execution_count": null,
   "metadata": {},
   "outputs": [],
   "source": []
  },
  {
   "cell_type": "markdown",
   "metadata": {},
   "source": [
    "### Обучение модели"
   ]
  },
  {
   "cell_type": "code",
   "execution_count": 17,
   "metadata": {},
   "outputs": [
    {
     "name": "stdout",
     "output_type": "stream",
     "text": [
      "Train on 7982 samples, validate on 1000 samples\n",
      "Epoch 1/20\n",
      "7982/7982 [==============================] - 3s 424us/step - loss: 0.0731 - acc: 0.9808 - val_loss: 0.0514 - val_acc: 0.9856\n",
      "Epoch 2/20\n",
      "7982/7982 [==============================] - 1s 175us/step - loss: 0.0440 - acc: 0.9883 - val_loss: 0.0411 - val_acc: 0.9892\n",
      "Epoch 3/20\n",
      "7982/7982 [==============================] - 1s 181us/step - loss: 0.0344 - acc: 0.9908 - val_loss: 0.0366 - val_acc: 0.9904\n",
      "Epoch 4/20\n",
      "7982/7982 [==============================] - 1s 172us/step - loss: 0.0283 - acc: 0.9922 - val_loss: 0.0347 - val_acc: 0.9908\n",
      "Epoch 5/20\n",
      "7982/7982 [==============================] - 1s 166us/step - loss: 0.0236 - acc: 0.9933 - val_loss: 0.0321 - val_acc: 0.9910\n",
      "Epoch 6/20\n",
      "7982/7982 [==============================] - 1s 182us/step - loss: 0.0198 - acc: 0.9943 - val_loss: 0.0311 - val_acc: 0.9917\n",
      "Epoch 7/20\n",
      "7982/7982 [==============================] - 1s 176us/step - loss: 0.0167 - acc: 0.9951 - val_loss: 0.0306 - val_acc: 0.9917\n",
      "Epoch 8/20\n",
      "7982/7982 [==============================] - 1s 172us/step - loss: 0.0140 - acc: 0.9957 - val_loss: 0.0311 - val_acc: 0.9917\n",
      "Epoch 9/20\n",
      "7982/7982 [==============================] - 1s 179us/step - loss: 0.0118 - acc: 0.9962 - val_loss: 0.0299 - val_acc: 0.9920\n",
      "Epoch 10/20\n",
      "7982/7982 [==============================] - 1s 174us/step - loss: 0.0101 - acc: 0.9968 - val_loss: 0.0302 - val_acc: 0.9921\n",
      "Epoch 11/20\n",
      "7982/7982 [==============================] - 1s 184us/step - loss: 0.0088 - acc: 0.9972 - val_loss: 0.0307 - val_acc: 0.9922\n",
      "Epoch 12/20\n",
      "7982/7982 [==============================] - 1s 174us/step - loss: 0.0076 - acc: 0.9975 - val_loss: 0.0306 - val_acc: 0.9925\n",
      "Epoch 13/20\n",
      "7982/7982 [==============================] - 1s 170us/step - loss: 0.0070 - acc: 0.9976 - val_loss: 0.0314 - val_acc: 0.9923\n",
      "Epoch 14/20\n",
      "7982/7982 [==============================] - 1s 167us/step - loss: 0.0063 - acc: 0.9978 - val_loss: 0.0322 - val_acc: 0.9923\n",
      "Epoch 15/20\n",
      "7982/7982 [==============================] - 1s 167us/step - loss: 0.0058 - acc: 0.9979 - val_loss: 0.0325 - val_acc: 0.9923\n",
      "Epoch 16/20\n",
      "7982/7982 [==============================] - 1s 170us/step - loss: 0.0054 - acc: 0.9980 - val_loss: 0.0343 - val_acc: 0.9920\n",
      "Epoch 17/20\n",
      "7982/7982 [==============================] - 1s 165us/step - loss: 0.0051 - acc: 0.9981 - val_loss: 0.0345 - val_acc: 0.9920\n",
      "Epoch 18/20\n",
      "7982/7982 [==============================] - 1s 164us/step - loss: 0.0049 - acc: 0.9981 - val_loss: 0.0348 - val_acc: 0.9919\n",
      "Epoch 19/20\n",
      "7982/7982 [==============================] - 1s 170us/step - loss: 0.0047 - acc: 0.9982 - val_loss: 0.0361 - val_acc: 0.9919\n",
      "Epoch 20/20\n",
      "7982/7982 [==============================] - 1s 187us/step - loss: 0.0045 - acc: 0.9983 - val_loss: 0.0352 - val_acc: 0.9922\n"
     ]
    }
   ],
   "source": [
    "model.compile(optimizer='rmsprop',\n",
    "              loss='binary_crossentropy',\n",
    "              metrics=['acc'])\n",
    "\n",
    "history = model.fit(partial_x_train,\n",
    "                    partial_y_train,\n",
    "                    epochs=20,\n",
    "                    batch_size=512,\n",
    "                    validation_data=(x_val, y_val))"
   ]
  },
  {
   "cell_type": "code",
   "execution_count": 24,
   "metadata": {},
   "outputs": [
    {
     "data": {
      "image/png": "[encoded data removed]",
      "text/plain": [
       "<Figure size 432x288 with 1 Axes>"
      ]
     },
     "metadata": {
      "needs_background": "light"
     },
     "output_type": "display_data"
    }
   ],
   "source": [
    "import matplotlib.pyplot as plt\n",
    "\n",
    "history_dict = history.history\n",
    "loss_values = history_dict['loss']\n",
    "val_loss_values = history_dict['val_loss']\n",
    "\n",
    "epochs = range(1, 20+1) # Количество эпох = 20\n",
    "\n",
    "plt.plot(epochs, loss_values, 'bo', label='Потери на этапе обучения')\n",
    "plt.plot(epochs, val_loss_values, 'b', label='Потери на этапе проверки')\n",
    "plt.title('Training and validation loss')\n",
    "plt.legend()\n",
    "plt.grid()\n",
    "plt.xlabel('Эпохи')\n",
    "plt.ylabel('Потери')\n",
    "plt.show()"
   ]
  },
  {
   "cell_type": "code",
   "execution_count": 23,
   "metadata": {},
   "outputs": [
    {
     "data": {
      "text/plain": [
       "<matplotlib.legend.Legend at 0xb2bcdcbe0>"
      ]
     },
     "execution_count": 23,
     "metadata": {},
     "output_type": "execute_result"
    },
    {
     "data": {
      "image/png": "[encoded data removed]",
      "text/plain": [
       "<Figure size 432x288 with 1 Axes>"
      ]
     },
     "metadata": {
      "needs_background": "light"
     },
     "output_type": "display_data"
    }
   ],
   "source": [
    "plt.clf()   # Очистить рисунок\n",
    "history_dict = history.history\n",
    "acc_values = history_dict['acc']   # значения точности\n",
    "val_acc_values = history_dict['val_acc']\n",
    "plt.plot(epochs, acc_values, 'bo', label='Точность на этапе обучения')\n",
    "plt.plot(epochs, val_acc_values, 'b', label='Точность на этапе проверки')\n",
    "plt.grid()\n",
    "plt.xlabel('Эпохи')\n",
    "plt.ylabel('Потери')\n",
    "plt.legend()\n"
   ]
  },
  {
   "cell_type": "code",
   "execution_count": 26,
   "metadata": {},
   "outputs": [
    {
     "name": "stdout",
     "output_type": "stream",
     "text": [
      "2246/2246 [==============================] - 0s 217us/step\n"
     ]
    }
   ],
   "source": [
    "results = model.evaluate(x_test, one_hot_test_labels)"
   ]
  },
  {
   "cell_type": "code",
   "execution_count": 28,
   "metadata": {},
   "outputs": [
    {
     "data": {
      "text/plain": [
       "[0.0399503290507269, 0.9911243426725468]"
      ]
     },
     "execution_count": 28,
     "metadata": {},
     "output_type": "execute_result"
    }
   ],
   "source": [
    "results"
   ]
  },
  {
   "cell_type": "code",
   "execution_count": 29,
   "metadata": {},
   "outputs": [
    {
     "data": {
      "text/plain": [
       "array([[1.3860277e-06, 2.2159691e-06, 1.3457884e-08, ..., 1.8969901e-08,\n",
       "        9.4433910e-09, 4.2851922e-09],\n",
       "       [1.7812637e-03, 1.4198900e-02, 5.4751185e-06, ..., 6.0123386e-07,\n",
       "        1.3284481e-08, 2.2878739e-04],\n",
       "       [1.7569590e-02, 8.2410026e-01, 1.0929940e-03, ..., 2.0902133e-05,\n",
       "        5.9367530e-06, 2.8291473e-04],\n",
       "       ...,\n",
       "       [2.4852969e-07, 1.6520672e-06, 6.9302033e-08, ..., 5.2811751e-09,\n",
       "        3.2355498e-08, 2.7540152e-09],\n",
       "       [3.1158314e-03, 2.4208133e-01, 8.7350368e-04, ..., 2.5117182e-04,\n",
       "        6.1874084e-06, 1.2291784e-05],\n",
       "       [8.3824394e-05, 6.2386227e-01, 3.2319512e-02, ..., 7.7312990e-07,\n",
       "        8.1168858e-09, 8.0454256e-06]], dtype=float32)"
      ]
     },
     "execution_count": 29,
     "metadata": {},
     "output_type": "execute_result"
    }
   ],
   "source": [
    "model.predict(x_test)"
   ]
  },
  {
   "cell_type": "code",
   "execution_count": null,
   "metadata": {},
   "outputs": [],
   "source": []
  }
 ],
 "metadata": {
  "kernelspec": {
   "display_name": "Python 3",
   "language": "python",
   "name": "python3"
  },
  "language_info": {
   "codemirror_mode": {
    "name": "ipython",
    "version": 3
   },
   "file_extension": ".py",
   "mimetype": "text/x-python",
   "name": "python",
   "nbconvert_exporter": "python",
   "pygments_lexer": "ipython3",
   "version": "3.6.6"
  }
 },
 "nbformat": 4,
 "nbformat_minor": 2
}
