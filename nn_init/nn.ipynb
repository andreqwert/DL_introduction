{
 "cells": [
  {
   "cell_type": "markdown",
   "metadata": {},
   "source": [
    "# Нейронная сеть без библиотек\n",
    "По книге Тарика Рошида"
   ]
  },
  {
   "cell_type": "code",
   "execution_count": 3,
   "metadata": {},
   "outputs": [],
   "source": [
    "import numpy as np\n",
    "\n",
    "# for the sigmoid function expit()\n",
    "import scipy.special\n",
    "import matplotlib.pyplot as plt\n",
    "%matplotlib inline\n",
    "\n",
    "# helper to load data from PNG image files\n",
    "import imageio\n",
    "\n",
    "import warnings\n",
    "warnings.filterwarnings(\"ignore\")"
   ]
  },
  {
   "cell_type": "code",
   "execution_count": 13,
   "metadata": {},
   "outputs": [],
   "source": [
    "class neuralNetwork:\n",
    "    def __init__(self, inputnodes, hiddennodes, outputnodes, learningrate):\n",
    "        # задать количество узлов во входном, скрытом и выходном слоях\n",
    "        self.inodes = inputnodes\n",
    "        self.hnodes = hiddennodes\n",
    "        self.onodes = outputnodes\n",
    "        \n",
    "        # Матрицы весовых коэффициентов связей wih и who.\n",
    "        # Весовые коэффициенты связей между узлом i и узлом j\n",
    "        # следующего слоя обозначены как w_i_j: w11, w21, w12 итд.\n",
    "        self.wih = np.random.normal(0.0, pow(self.inodes, -0.5), (self.hnodes, self.inodes))\n",
    "        self.who = np.random.normal(0.0, pow(self.hnodes, -0.5), (self.onodes, self.hnodes))\n",
    "\n",
    "        # Коэффициент обучения\n",
    "        self.lr = learningrate\n",
    "        \n",
    "        # Использование сигмоиды в качестве функции активации\n",
    "        self.activation_function = lambda x: scipy.special.expit(x)\n",
    "        \n",
    "        pass\n",
    "\n",
    "    \n",
    "    # Тренировка нейронной сети\n",
    "    def train(self, inputs_list, targets_list):\n",
    "        # targets_list = тренировочные примеры\n",
    "        \n",
    "        # Преобразовать список входных значений в двумерный массив\n",
    "        inputs = np.array(inputs_list, ndmin=2).T\n",
    "        targets = np.array(targets_list, ndmin=2).T\n",
    "        \n",
    "        # Рассчитать входящие сигналы для скрытого слоя\n",
    "        hidden_inputs = np.dot(self.wih, inputs)\n",
    "        # Рассчитать входящие сигналы для выходного слоя \n",
    "        hidden_outputs = self.activation_function(hidden_inputs)\n",
    "        \n",
    "        # Рассчитать входящие сигналы для выходного слоя\n",
    "        final_inputs = np.dot(self.who, hidden_outputs)\n",
    "        # Рассчитать исходящие сигналы для выходного слоя\n",
    "        final_outputs = self.activation_function(final_inputs)\n",
    "        \n",
    "        # Ошибки выходного слоя = (целевое зн-е - фактическое зн-е)\n",
    "        output_errors = targets - final_outputs\n",
    "        \n",
    "        # Ошибки скрытого слоя - это распределенные пропорционально весовым коэфф-там связей\n",
    "        # и рекомбинированным на скрытых узлах\n",
    "        hidden_errors = np.dot(self.who.T, output_errors) \n",
    "        \n",
    "        # Обновить весовые коэфф-ты для свзей между скрытым и выходным слоями\n",
    "        self.who += self.lr * np.dot((output_errors * final_outputs * (1.0 - final_outputs)), np.transpose(hidden_outputs))\n",
    "        \n",
    "        # # Обновить весовые коэфф-ты для свзей между входным и скрытым слоями\n",
    "        self.wih += self.lr * np.dot((hidden_errors * hidden_outputs * (1.0 - hidden_outputs)), np.transpose(inputs))\n",
    "        \n",
    "        pass\n",
    "\n",
    "    \n",
    "    # Опрос нейронной сети\n",
    "    def query(self, inputs_list):\n",
    "        # Преобразовать список входных значений в двумерный массив\n",
    "        inputs = np.array(inputs_list, ndmin=2).T\n",
    "        \n",
    "        # Рассчитать входящие сигналы для скрытого слоя\n",
    "        hidden_inputs = np.dot(self.wih, inputs)\n",
    "        # Рассчитать исходящие сигналы для скрытого слоя\n",
    "        hidden_outputs = self.activation_function(hidden_inputs)\n",
    "        \n",
    "        # Рассчитать входящие сигналы для выходного слоя\n",
    "        final_inputs = np.dot(self.who, hidden_outputs)\n",
    "        # Рассчитать исходящие сигналы для выходного слоя\n",
    "        final_outputs = self.activation_function(final_inputs)\n",
    "        \n",
    "        return final_outputs"
   ]
  },
  {
   "cell_type": "code",
   "execution_count": 14,
   "metadata": {},
   "outputs": [],
   "source": [
    "# Количество входных, скрытых и выходных узлов\n",
    "input_nodes = 28 * 28\n",
    "hidden_nodes = 200\n",
    "output_nodes = 10\n",
    "\n",
    "# Коэффициент обучения равен 0,1\n",
    "learning_rate = 0.1\n",
    "\n",
    "# Создать эксемпляр нейронной сети\n",
    "n = neuralNetwork(input_nodes, hidden_nodes, output_nodes, learning_rate)"
   ]
  },
  {
   "cell_type": "code",
   "execution_count": 15,
   "metadata": {},
   "outputs": [],
   "source": [
    "# Загрузить тестовый набор данных MNIST\n",
    "training_data_file = open(\"mnist_dataset/mnist_train_100.csv\", 'r')\n",
    "training_data_list = training_data_file.readlines()\n",
    "training_data_file.close()"
   ]
  },
  {
   "cell_type": "code",
   "execution_count": 18,
   "metadata": {},
   "outputs": [],
   "source": [
    "# Тренировка нейронной сети\n",
    "\n",
    "# Переменная epochs указывает, сколько раз проводится тренирвока нейронной сети\n",
    "epochs = 10\n",
    "\n",
    "for e in range(epochs):\n",
    "    # Перебрать все записи в тренировочном наборе данных\n",
    "    for record in training_data_list:\n",
    "        # получить список значений\n",
    "        all_values = record.split(',')\n",
    "        # Масштабировать и сместить входные значения\n",
    "        inputs = (np.asfarray(all_values[1:]) / 255.0 * 0.99) + 0.01\n",
    "        # Создать целевые входные значения (все равны 0.01 за исключением желаемого маркерного, равного 0,99)\n",
    "        targets = np.zeros(output_nodes) + 0.01\n",
    "        # all_values[0] - целевое маркерное значение для данной записи\n",
    "        targets[int(all_values[0])] = 0.99\n",
    "        n.train(inputs, targets)\n",
    "        pass\n",
    "    pass"
   ]
  },
  {
   "cell_type": "markdown",
   "metadata": {},
   "source": [
    "Попробуем применить нейронную сеть к какой-нибудь нашей картинке"
   ]
  },
  {
   "cell_type": "code",
   "execution_count": 21,
   "metadata": {},
   "outputs": [
    {
     "name": "stdout",
     "output_type": "stream",
     "text": [
      "min =  0.19581719\n",
      "max =  0.58418447\n",
      "[[0.05922945]\n",
      " [0.01140924]\n",
      " [0.02293119]\n",
      " [0.02039734]\n",
      " [0.12576167]\n",
      " [0.05655413]\n",
      " [0.03320732]\n",
      " [0.02165404]\n",
      " [0.01958488]\n",
      " [0.0040345 ]]\n",
      "Ответ нейросети:  4\n"
     ]
    },
    {
     "data": {
      "image/png": "[encoded data removed]",
      "text/plain": [
       "<Figure size 432x288 with 1 Axes>"
      ]
     },
     "metadata": {},
     "output_type": "display_data"
    }
   ],
   "source": [
    "# load image data from png files into an array\n",
    "img_array = imageio.imread('/Users/user/Desktop/nn/imgs/1.png', as_gray=True)\n",
    "    \n",
    "# reshape from 28x28 to list of 784 values, invert values\n",
    "img_data  = 255.0 - img_array.reshape(784)\n",
    "    \n",
    "# then scale data to range from 0.01 to 1.0\n",
    "img_data = (img_data / 255.0 * 0.99) + 0.01\n",
    "print(\"min = \", np.min(img_data))\n",
    "print(\"max = \", np.max(img_data))\n",
    "plt.imshow(img_data.reshape(28,28), cmap='Greys', interpolation='None')\n",
    "\n",
    "# Опрос сети\n",
    "outputs = n.query(img_data)\n",
    "print (outputs)\n",
    "\n",
    "# the index of the highest value corresponds to the label\n",
    "label = np.argmax(outputs)\n",
    "print(\"Ответ нейросети: \", label)"
   ]
  }
 ],
 "metadata": {
  "kernelspec": {
   "display_name": "Python 3",
   "language": "python",
   "name": "python3"
  },
  "language_info": {
   "codemirror_mode": {
    "name": "ipython",
    "version": 3
   },
   "file_extension": ".py",
   "mimetype": "text/x-python",
   "name": "python",
   "nbconvert_exporter": "python",
   "pygments_lexer": "ipython3",
   "version": "3.6.5"
  }
 },
 "nbformat": 4,
 "nbformat_minor": 1
}
