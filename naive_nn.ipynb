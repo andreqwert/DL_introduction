{
 "cells": [
  {
   "cell_type": "markdown",
   "metadata": {},
   "source": [
    "# Матаппарат для построения НС"
   ]
  },
  {
   "cell_type": "markdown",
   "metadata": {},
   "source": [
    "*Нейронная сеть* - это последовательность геометрических преобразований в многомерном пространстве, реализованное в виде последовательности простых шагов."
   ]
  },
  {
   "cell_type": "markdown",
   "metadata": {},
   "source": [
    "### Скаляры (тензоры 0 ранга)"
   ]
  },
  {
   "cell_type": "markdown",
   "metadata": {},
   "source": [
    "Скаляр - это тензор, содержащий единственное число."
   ]
  },
  {
   "cell_type": "code",
   "execution_count": 2,
   "metadata": {},
   "outputs": [
    {
     "data": {
      "text/plain": [
       "array(12)"
      ]
     },
     "execution_count": 2,
     "metadata": {},
     "output_type": "execute_result"
    }
   ],
   "source": [
    "import numpy as np\n",
    "x = np.array(12)\n",
    "x"
   ]
  },
  {
   "cell_type": "code",
   "execution_count": 3,
   "metadata": {},
   "outputs": [
    {
     "data": {
      "text/plain": [
       "0"
      ]
     },
     "execution_count": 3,
     "metadata": {},
     "output_type": "execute_result"
    }
   ],
   "source": [
    "x.ndim # скалярный тензор имеет 0 осей"
   ]
  },
  {
   "cell_type": "markdown",
   "metadata": {},
   "source": [
    "### Векторы (тензоры 1 ранга)"
   ]
  },
  {
   "cell_type": "markdown",
   "metadata": {},
   "source": [
    "Вектор - это одномерный массив чисел."
   ]
  },
  {
   "cell_type": "code",
   "execution_count": 4,
   "metadata": {},
   "outputs": [
    {
     "data": {
      "text/plain": [
       "array([12,  3,  6, 14])"
      ]
     },
     "execution_count": 4,
     "metadata": {},
     "output_type": "execute_result"
    }
   ],
   "source": [
    "x = np.array([12, 3, 6, 14])\n",
    "x"
   ]
  },
  {
   "cell_type": "code",
   "execution_count": 5,
   "metadata": {},
   "outputs": [
    {
     "data": {
      "text/plain": [
       "1"
      ]
     },
     "execution_count": 5,
     "metadata": {},
     "output_type": "execute_result"
    }
   ],
   "source": [
    "x.ndim # Пятимерный вектор - имеет только одну ось и пять значений на этой оси"
   ]
  },
  {
   "cell_type": "markdown",
   "metadata": {},
   "source": [
    "## Матрицы (тензоры 2 ранга)"
   ]
  },
  {
   "cell_type": "markdown",
   "metadata": {},
   "source": [
    "Матрица имеет две оси (столбцы и строки), поэтому она - тензор второго порядка."
   ]
  },
  {
   "cell_type": "code",
   "execution_count": 6,
   "metadata": {},
   "outputs": [],
   "source": [
    "x = np.array([[5, 78, 2, 34, 0],\n",
    "              [6, 79, 3, 35, 1],\n",
    "              [7, 80, 4, 36, 2]])"
   ]
  },
  {
   "cell_type": "code",
   "execution_count": 7,
   "metadata": {},
   "outputs": [
    {
     "data": {
      "text/plain": [
       "2"
      ]
     },
     "execution_count": 7,
     "metadata": {},
     "output_type": "execute_result"
    }
   ],
   "source": [
    "x.ndim"
   ]
  },
  {
   "cell_type": "markdown",
   "metadata": {},
   "source": [
    "Здесь **[5, 78, 2, 35, 0]** - первая строка,    \n",
    "а **[5, 6, 7]** - первый столбец."
   ]
  },
  {
   "cell_type": "markdown",
   "metadata": {},
   "source": [
    "## Тензоры третьего и высших порядков"
   ]
  },
  {
   "cell_type": "code",
   "execution_count": 8,
   "metadata": {},
   "outputs": [],
   "source": [
    "x = np.array([[[5, 78, 2, 34, 0],\n",
    "               [6, 79, 3, 35, 1],\n",
    "               [7, 80, 4, 36, 2]],\n",
    "              [[5, 78, 2, 34, 0],\n",
    "               [6, 79, 3, 35, 1],\n",
    "               [7, 80, 4, 36, 2]],\n",
    "              [[5, 78, 2, 34, 0],\n",
    "               [6, 79, 3, 35, 1],\n",
    "               [7, 80, 4, 36, 2]]])"
   ]
  },
  {
   "cell_type": "code",
   "execution_count": 9,
   "metadata": {},
   "outputs": [
    {
     "data": {
      "text/plain": [
       "3"
      ]
     },
     "execution_count": 9,
     "metadata": {},
     "output_type": "execute_result"
    }
   ],
   "source": [
    "x.ndim"
   ]
  },
  {
   "cell_type": "markdown",
   "metadata": {},
   "source": [
    "Тензор - это:\n",
    "1. Количество осей (ранг) - например, трехмерный тензор имеет три оси, а матрица - две;\n",
    "2. Форма - матрица в примере выше имеет форму (3, 5), а трехмерный тензор имеет форму (3, 3, 5);    \n",
    "3. Тип данных - тип данных, содержащийся в тензоре (float32, float64, uint8, редко char)."
   ]
  },
  {
   "cell_type": "markdown",
   "metadata": {},
   "source": [
    "## Примеры тензоров с данными"
   ]
  },
  {
   "cell_type": "markdown",
   "metadata": {},
   "source": [
    "*Векторные данные* - тензоры с формой (образцы, признаки);        \n",
    "*Временные ряды* - трёхмерные тензоры с формой (образцы, метки времени, признаки);   \n",
    "*Изображения* - четырёхмерные тензоры с формой (образцы, высота, ширина, цвет);\n",
    "*Видео* - пятимерные тензоры с формой (образцы, кадры, высота, ширина, цвет) или с формой (образцы, кадры, цвет, высота, ширина)\n",
    "\n",
    "***Пример 1:*** есть данные с информацией о людях.    \n",
    "Для каждого человека указывается возраст, почтовый индекс и доход -> для 100000 человек можно сохранить двумерный тензор с формой (100000, 3)\n",
    "\n",
    "***Пример 2:*** пакет со 128 чёрно-белыми изображениями, имеющими размер $256*256$, можно сохранить в тензоре с формой (128, 256, 256, 1), а пакет со 128 цветными изображениями - в тензоре с формой (128, 256, 256, 3).\n",
    "\n",
    "<img src=\"images/1.png\">\n",
    "\n",
    "***Пример 3:*** 60-секундный видеоклип с разрешение $144*256$ и частотой 4 кадра в секунду будет состоять из 240 кадров. Для сохранения клипов потребуется тензор с формой (4, 240, 144, 256, 3). "
   ]
  },
  {
   "cell_type": "markdown",
   "metadata": {},
   "source": [
    "## Поэлементные операции\n",
    "### Операция $relu$"
   ]
  },
  {
   "cell_type": "code",
   "execution_count": 10,
   "metadata": {},
   "outputs": [
    {
     "name": "stdout",
     "output_type": "stream",
     "text": [
      "Изначальный массив: \n",
      " [[ -5  78   2  34   0]\n",
      " [ -6  79  -3 -35   1]\n",
      " [  7  80  -4  36   2]]\n",
      "Форма: \n",
      " (3, 5)\n",
      "\n",
      "\n",
      "\n"
     ]
    },
    {
     "data": {
      "text/plain": [
       "array([[ 0, 78,  2, 34,  0],\n",
       "       [ 0, 79,  0,  0,  1],\n",
       "       [ 7, 80,  0, 36,  2]])"
      ]
     },
     "execution_count": 10,
     "metadata": {},
     "output_type": "execute_result"
    }
   ],
   "source": [
    "import numpy as np\n",
    "\n",
    "\n",
    "def naive_relu(x):\n",
    "    \"\"\"RELU: пробегаем по матрице и для каждого элемента выбираем \n",
    "    максимум между нулем и самим значением элемента\"\"\"\n",
    "    \n",
    "    assert len(x.shape) == 2  # убедиться, что x - двумерный вектор\n",
    "    x = x.copy()  # исключить затирание исходного тензора\n",
    "    print('Изначальный массив: \\n', x)\n",
    "    print('Форма: \\n', x.shape)\n",
    "    print('\\n\\n')\n",
    "    \n",
    "    # Мы пробегаем по строкам...\n",
    "    for i in range(x.shape[0]):\n",
    "        # ...и по столбцам\n",
    "        for j in range(x.shape[1]):\n",
    "            # Мы выбираем максимум из элемента матрица и нуля\n",
    "            x[i, j] = max(x[i, j], 0)\n",
    "    return x\n",
    "\n",
    "\n",
    "x = np.array([[-5, 78, 2, 34, 0],\n",
    "              [-6, 79, -3, -35, 1],\n",
    "              [7, 80, -4, 36, 2]])\n",
    "\n",
    "naive_relu(x)\n"
   ]
  },
  {
   "cell_type": "markdown",
   "metadata": {},
   "source": [
    "### Операция сложения"
   ]
  },
  {
   "cell_type": "code",
   "execution_count": 11,
   "metadata": {},
   "outputs": [
    {
     "name": "stdout",
     "output_type": "stream",
     "text": [
      "[[ -5  90   7  17  -9]\n",
      " [-12 158  -6 -70   1]\n",
      " [ 14 160  -8  72   4]]\n",
      "\n",
      "\n",
      "\n",
      "[[  0.  90.   7.  17.   0.]\n",
      " [  0. 158.   0.   0.   1.]\n",
      " [ 14. 160.   0.  72.   4.]]\n"
     ]
    }
   ],
   "source": [
    "def naive_add(x, y):\n",
    "    \"\"\"Поэлементное сложение тензоров\"\"\"\n",
    "    \n",
    "    assert len(x.shape)==2  # убедиться, что x и y - двумерные тензоры\n",
    "    assert x.shape == y.shape\n",
    "    x = x.copy()  # исключить затухание исходного тензора\n",
    "    \n",
    "    # Мы пробегаем по строкам...\n",
    "    for i in range(x.shape[0]):\n",
    "        # ...и по столбцам\n",
    "        for j in range(x.shape[1]):\n",
    "            x[i, j] += y[i, j]\n",
    "    return x\n",
    "\n",
    "\n",
    "x = np.array([[-5, 78, 2, 34, 0],\n",
    "              [-6, 79, -3, -35, 1],\n",
    "              [7, 80, -4, 36, 2]])\n",
    "\n",
    "y = np.array([[0, 12, 5, -17, -9],\n",
    "              [-6, 79, -3, -35, 0],\n",
    "              [7, 80, -4, 36, 2]])\n",
    "\n",
    "z = x + y\n",
    "print(z)\n",
    "\n",
    "print('\\n\\n')\n",
    "\n",
    "z = np.maximum(z, 0.)\n",
    "print(z)\n"
   ]
  },
  {
   "cell_type": "code",
   "execution_count": 38,
   "metadata": {},
   "outputs": [],
   "source": [
    "def naive_add_matrix_and_vector(x, y):\n",
    "    \"\"\"Поэлементное сложение вектора и матрицы (тензоров с разными формами)\"\"\"\n",
    "    \n",
    "    # Убедиться, что x - двумерный тензор Numpy\n",
    "    assert len(x.shape) == 2.\n",
    "    # Убедиться, что y - вектор Numpy\n",
    "    assert len(y.shape) == 1.\n",
    "    assert x.shape[1] == y.shape[0]\n",
    "    \n",
    "    x = x.copy() # Исключить затирание исходного тензора\n",
    "    # Мы пробегаем по строкам...\n",
    "    for i in range(x.shape[0]):\n",
    "        # ...и по столбцам\n",
    "        for j in range(x.shape[1]):\n",
    "            x[i, j] += y[j]\n",
    "    return x\n"
   ]
  },
  {
   "cell_type": "code",
   "execution_count": 43,
   "metadata": {},
   "outputs": [
    {
     "data": {
      "text/plain": [
       "array([[ -5,  90,   7,  17,  -9],\n",
       "       [ -6,  91,   2, -52,  -8],\n",
       "       [  7,  92,   1,  19,  -7]])"
      ]
     },
     "execution_count": 43,
     "metadata": {},
     "output_type": "execute_result"
    }
   ],
   "source": [
    "x = np.array([[-5, 78, 2, 34, 0],\n",
    "              [-6, 79, -3, -35, 1],\n",
    "              [7, 80, -4, 36, 2]])\n",
    "\n",
    "y = np.array([0, 12, 5, -17, -9])\n",
    "\n",
    "naive_add_matrix_and_vector(x, y)\n",
    "\n"
   ]
  },
  {
   "cell_type": "code",
   "execution_count": null,
   "metadata": {},
   "outputs": [],
   "source": [
    "def naive_vector_dot(x, y):\n",
    "    \"\"\"Обычное произведение векторов\"\"\"\n",
    "    \n",
    "    assert len(x.shape) == 1\n",
    "    assert len(y.shape) == 1\n",
    "    assert x.shape[0] == y.shape[0]\n",
    "    \n",
    "    z = 0\n",
    "    for i in range(x.shape[0]):\n",
    "        z += x[i] * y[i]\n",
    "    return z"
   ]
  },
  {
   "cell_type": "markdown",
   "metadata": {},
   "source": [
    "## Скалярное произведение векторов"
   ]
  },
  {
   "cell_type": "markdown",
   "metadata": {},
   "source": [
    "***Скалярное произведение*** - операция над двумя векторами, результатом которой является число, не зависящее от системы координат и характеризующее длины векторов-сомножителей и угол между ними. \n",
    "<img src=\"images/3.png\" style=\"width: 175px;\">\n",
    "\n",
    "Замечание: скалярное произведение - не симметричная операция, то есть `dot(x, y) != dot(y, x)`"
   ]
  },
  {
   "cell_type": "code",
   "execution_count": 46,
   "metadata": {},
   "outputs": [],
   "source": [
    "def naive_matrix_dot(x, y):\n",
    "    \"\"\"Скалярное произведение матриц\"\"\"\n",
    "    \n",
    "    # В операции могут участвовать только векторы с одинаковым количеством элементов\n",
    "    assert len(x.shape) == 2\n",
    "    assert len(y.shape) == 2\n",
    "    assert x.shape[1] == y.shape[0] # первое измерение x должно совпадать с нулевым измерением y\n",
    "    \n",
    "    z = np.zeros((x.shape[0], y.shape[1])) # Эта операция вернёт матрицу заданной формы с нулевыми элементами\n",
    "    for i in range(x.shape[0]): # Обход строк в x...\n",
    "        for j in range(y.shape[1]): # Обход столбцов в y...\n",
    "            row_x = x[i, :]\n",
    "            column_y = y[:, j]\n",
    "            z[i, j] = naive_vector_dot(row_x, column_y)\n",
    "    return z\n",
    "\n"
   ]
  },
  {
   "cell_type": "markdown",
   "metadata": {},
   "source": [
    "### Простейшая НС"
   ]
  },
  {
   "cell_type": "code",
   "execution_count": 5,
   "metadata": {},
   "outputs": [],
   "source": [
    "from keras.datasets import mnist\n",
    "from keras import models\n",
    "from keras import layers\n",
    "\n",
    "(train_images, train_labels), (test_images, test_labels) = mnist.load_data()\n",
    "\n",
    "# Обучающие данные\n",
    "train_images = train_images.reshape((60000, 28*28))\n",
    "train_images = train_images.astype('float32') / 255\n",
    "\n",
    "# Контрольные данные\n",
    "test_images = test_images.reshape((10000, 28*28))\n",
    "test_images = test_images.astype('float32') / 255\n",
    "\n",
    "# Сеть = цепочка двух слоёв Dense, каждый из которых применяет к входным данным несколько \n",
    "# простых операций с тензорами, вовлекающих весовые коэффициенты\n",
    "network = models.Sequential()\n",
    "network.add(layers.Dense(512, activation='relu', input_shape=(28*28, )))\n",
    "network.add(layers.Dense(10, activation='softmax'))\n",
    "\n",
    "# Этап компиляции\n",
    "# Снижение потерь за счет стохастического градиентного спуска на небольших пакетах (=батчах)\n",
    "network.compile (optimizer='rmsprop', # Тут указываются точные правила для применения SGD\n",
    "                 loss='categorical_crossentropy', # Функция потерь, её сводим к минимуму\n",
    "                                                  # Она используется в качестве сигнала для обучения весовых коэфф-в\n",
    "                 metrics=['accuracy'])\n",
    "\n",
    "\n",
    "# Сеть перебирает обучающие данные по 129 образцов и выполняет 5 итераций (=эпох). \n",
    "# Для каждого мини-пакета сеть вычисляет градиенты весов с учетом потерь в апкете и изменяет\n",
    "# значения весов в соответствующем направлении\n",
    "network.fit(train_images, train_labels, epochs=5, batch_size=128)"
   ]
  },
  {
   "cell_type": "code",
   "execution_count": null,
   "metadata": {},
   "outputs": [],
   "source": []
  }
 ],
 "metadata": {
  "kernelspec": {
   "display_name": "Python 3",
   "language": "python",
   "name": "python3"
  },
  "language_info": {
   "codemirror_mode": {
    "name": "ipython",
    "version": 3
   },
   "file_extension": ".py",
   "mimetype": "text/x-python",
   "name": "python",
   "nbconvert_exporter": "python",
   "pygments_lexer": "ipython3",
   "version": "3.6.6"
  }
 },
 "nbformat": 4,
 "nbformat_minor": 2
}
