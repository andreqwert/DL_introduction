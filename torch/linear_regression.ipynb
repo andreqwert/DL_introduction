{
 "cells": [
  {
   "cell_type": "code",
   "execution_count": 9,
   "id": "69422007",
   "metadata": {},
   "outputs": [],
   "source": [
    "import pandas as pd\n",
    "import matplotlib.pyplot as plt"
   ]
  },
  {
   "cell_type": "code",
   "execution_count": 10,
   "id": "a0383819",
   "metadata": {},
   "outputs": [],
   "source": [
    "df = pd.read_csv('data.csv')"
   ]
  },
  {
   "cell_type": "code",
   "execution_count": 12,
   "id": "bfa9ed03",
   "metadata": {},
   "outputs": [
    {
     "data": {
      "image/png": "[encoded data removed]",
      "text/plain": [
       "<Figure size 432x288 with 1 Axes>"
      ]
     },
     "metadata": {
      "needs_background": "light"
     },
     "output_type": "display_data"
    }
   ],
   "source": [
    "plt.scatter(df.studytime, df.score)\n",
    "plt.grid()"
   ]
  },
  {
   "cell_type": "markdown",
   "id": "63a1b006",
   "metadata": {},
   "source": [
    "$$\n",
    "E = \\frac{1}{n}\\sum_{i=0}^{n}(y_i - (wx_i+b))^2\n",
    "$$"
   ]
  },
  {
   "cell_type": "code",
   "execution_count": 16,
   "id": "f18931f8",
   "metadata": {},
   "outputs": [],
   "source": [
    "def mse(w, b, df):\n",
    "    \"\"\"\n",
    "    df: сэмплы выборки (=точки на графике)\n",
    "    \"\"\"\n",
    "    \n",
    "    total_error = 0\n",
    "    n = len(df)\n",
    "    for i in range(n):\n",
    "        x = df.iloc[i].studytime\n",
    "        y = df.iloc[i].score\n",
    "        total_error += (y - (w*x + b))**2\n",
    "    error = total_error / float(n)\n",
    "    return error"
   ]
  },
  {
   "cell_type": "markdown",
   "id": "1c7cf689",
   "metadata": {},
   "source": [
    "$$\n",
    "\\frac{\\partial E}{\\partial w} = -\\frac{2}{n}\\sum_{i=0}^{n}x_i(y_i - (wx_i+b))    \n",
    "$$\n",
    "\n",
    "$$\n",
    "\\frac{\\partial E}{\\partial b} = -\\frac{2}{n}\\sum_{i=0}^{n}(y_i - (wx_i+b))    \n",
    "$$\n",
    "\n",
    "$$\n",
    "w = w - \\eta\\frac{\\partial E}{\\partial w}\n",
    "$$\n",
    "\n",
    "$$\n",
    "b = b - \\eta\\frac{\\partial E}{\\partial b}\n",
    "$$"
   ]
  },
  {
   "cell_type": "code",
   "execution_count": 20,
   "id": "696eb867",
   "metadata": {},
   "outputs": [
    {
     "name": "stdout",
     "output_type": "stream",
     "text": [
      "Coefficient :  9.241152874557253\n",
      "Intercept :  2.0909180321957037\n",
      "Mean Squared Error :  254.12736100437797\n"
     ]
    },
    {
     "data": {
      "image/png": "[encoded data removed]",
      "text/plain": [
       "<Figure size 432x288 with 1 Axes>"
      ]
     },
     "metadata": {
      "needs_background": "light"
     },
     "output_type": "display_data"
    }
   ],
   "source": [
    "def gradient_descent(w_curr, b_curr, df, lr=0.001):\n",
    "    \n",
    "    w_gradient = 0\n",
    "    b_gradient = 0\n",
    "    n = len(df)\n",
    "\n",
    "    for i in range(n):\n",
    "        x_i = df.iloc[i].studytime\n",
    "        y_i = df.iloc[i].score\n",
    "\n",
    "        w_gradient += (-2/n) * x_i * (y_i - w_curr*x_i - b_curr)\n",
    "        b_gradient += (-2/n) * (y_i - w_curr*x_i - b_curr)\n",
    "\n",
    "    w = w_curr - w_gradient*lr\n",
    "    b = b_curr - b_gradient*lr\n",
    "    return w, b\n",
    "\n",
    "\n",
    "w = 0\n",
    "b = 0\n",
    "lr = 0.00001\n",
    "epochs = 10000\n",
    "\n",
    "for i in range(epochs):\n",
    "    w, b = gradient_descent(w, b, df, lr)\n",
    "print(\"Coefficient : \", w)\n",
    "print(\"Intercept : \", b)\n",
    "print(\"Mean Squared Error : \", mse(w, b, df))\n",
    "\n",
    "plt.scatter(df.studytime, df.score, color='red')\n",
    "plt.plot(df.studytime, w*df.studytime+b, color= 'black')\n",
    "plt.grid()\n",
    "plt.show()"
   ]
  },
  {
   "cell_type": "code",
   "execution_count": null,
   "id": "b8f5fc8f",
   "metadata": {},
   "outputs": [],
   "source": []
  }
 ],
 "metadata": {
  "kernelspec": {
   "display_name": "Python 3 (ipykernel)",
   "language": "python",
   "name": "python3"
  },
  "language_info": {
   "codemirror_mode": {
    "name": "ipython",
    "version": 3
   },
   "file_extension": ".py",
   "mimetype": "text/x-python",
   "name": "python",
   "nbconvert_exporter": "python",
   "pygments_lexer": "ipython3",
   "version": "3.9.7"
  }
 },
 "nbformat": 4,
 "nbformat_minor": 5
}
