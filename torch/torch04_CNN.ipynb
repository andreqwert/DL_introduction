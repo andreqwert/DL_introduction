{
 "cells": [
  {
   "cell_type": "markdown",
   "metadata": {},
   "source": [
    "# Лабораторная работа №5\n",
    "\n",
    "Асланов А.Б., ИУ9-31М\n",
    "\n",
    "Программируем нейронную сеть LeNet5 на PyTorch.    \n",
    "В этой сети:\n",
    "- 5 полносвязных слоёв;\n",
    "- 2 свёртки;\n",
    "- 3 полносвязных слоя.    \n",
    "В целом архитектура немного отличается от оригинальной."
   ]
  },
  {
   "cell_type": "code",
   "execution_count": 1,
   "metadata": {},
   "outputs": [],
   "source": [
    "import torch\n",
    "import random\n",
    "import numpy as np\n",
    "import torchvision.datasets\n",
    "import matplotlib.pyplot as plt\n",
    "\n",
    "random.seed(0)\n",
    "np.random.seed(0)\n",
    "torch.manual_seed(0)\n",
    "torch.cuda.manual_seed(0)\n",
    "torch.backends.cudnn.deterministic = True"
   ]
  },
  {
   "cell_type": "code",
   "execution_count": 2,
   "metadata": {},
   "outputs": [
    {
     "name": "stderr",
     "output_type": "stream",
     "text": [
      "0it [00:00, ?it/s]"
     ]
    },
    {
     "name": "stdout",
     "output_type": "stream",
     "text": [
      "Downloading http://yann.lecun.com/exdb/mnist/train-images-idx3-ubyte.gz to ./MNIST/raw/train-images-idx3-ubyte.gz\n"
     ]
    },
    {
     "name": "stderr",
     "output_type": "stream",
     "text": [
      " 99%|█████████▉| 9822208/9912422 [00:13<00:00, 989889.55it/s] "
     ]
    },
    {
     "name": "stdout",
     "output_type": "stream",
     "text": [
      "Extracting ./MNIST/raw/train-images-idx3-ubyte.gz to ./MNIST/raw\n"
     ]
    },
    {
     "name": "stderr",
     "output_type": "stream",
     "text": [
      "\n",
      "0it [00:00, ?it/s]\u001b[A"
     ]
    },
    {
     "name": "stdout",
     "output_type": "stream",
     "text": [
      "Downloading http://yann.lecun.com/exdb/mnist/train-labels-idx1-ubyte.gz to ./MNIST/raw/train-labels-idx1-ubyte.gz\n"
     ]
    },
    {
     "name": "stderr",
     "output_type": "stream",
     "text": [
      "\n",
      "  0%|          | 0/28881 [00:00<?, ?it/s]\u001b[A\n",
      " 57%|█████▋    | 16384/28881 [00:00<00:00, 98918.08it/s]\u001b[A\n",
      "32768it [00:00, 62793.64it/s]                           \u001b[A\n",
      "0it [00:00, ?it/s]\u001b[A"
     ]
    },
    {
     "name": "stdout",
     "output_type": "stream",
     "text": [
      "Extracting ./MNIST/raw/train-labels-idx1-ubyte.gz to ./MNIST/raw\n",
      "Downloading http://yann.lecun.com/exdb/mnist/t10k-images-idx3-ubyte.gz to ./MNIST/raw/t10k-images-idx3-ubyte.gz\n"
     ]
    },
    {
     "name": "stderr",
     "output_type": "stream",
     "text": [
      "\n",
      "  0%|          | 0/1648877 [00:00<?, ?it/s]\u001b[A\n",
      "  1%|          | 16384/1648877 [00:00<00:17, 93331.70it/s]\u001b[A\n",
      "  3%|▎         | 49152/1648877 [00:00<00:14, 108991.37it/s]\u001b[A\n",
      "  6%|▋         | 106496/1648877 [00:00<00:11, 139881.59it/s]\u001b[A\n",
      "  9%|▉         | 155648/1648877 [00:01<00:08, 174105.48it/s]\u001b[A\n",
      " 13%|█▎        | 212992/1648877 [00:01<00:09, 157004.47it/s]\u001b[A\n",
      " 14%|█▍        | 237568/1648877 [00:01<00:09, 150253.65it/s]\u001b[A\n",
      " 16%|█▌        | 262144/1648877 [00:01<00:08, 155042.58it/s]\u001b[A\n",
      " 17%|█▋        | 286720/1648877 [00:02<00:08, 168080.67it/s]\u001b[A\n",
      " 19%|█▉        | 319488/1648877 [00:02<00:06, 195138.34it/s]\u001b[A\n",
      " 22%|██▏       | 368640/1648877 [00:02<00:05, 237246.76it/s]\u001b[A\n",
      " 26%|██▌       | 425984/1648877 [00:02<00:04, 275747.68it/s]\u001b[A\n",
      " 29%|██▉       | 475136/1648877 [00:02<00:03, 316388.88it/s]\u001b[A\n",
      " 31%|███▏      | 516096/1648877 [00:02<00:03, 326532.43it/s]\u001b[A\n",
      " 35%|███▍      | 573440/1648877 [00:02<00:02, 371758.43it/s]\u001b[A\n",
      " 38%|███▊      | 622592/1648877 [00:02<00:02, 375080.17it/s]\u001b[A\n",
      " 42%|████▏     | 688128/1648877 [00:02<00:02, 412641.14it/s]\u001b[A\n",
      " 46%|████▌     | 753664/1648877 [00:03<00:01, 456054.09it/s]\u001b[A\n",
      " 50%|████▉     | 819200/1648877 [00:03<00:01, 487181.92it/s]\u001b[A\n",
      " 54%|█████▎    | 884736/1648877 [00:03<00:01, 526548.83it/s]\u001b[A\n",
      " 57%|█████▋    | 942080/1648877 [00:03<00:01, 526342.55it/s]\u001b[A\n",
      " 63%|██████▎   | 1032192/1648877 [00:03<00:01, 593315.14it/s]\u001b[A\n",
      " 67%|██████▋   | 1097728/1648877 [00:03<00:00, 600871.07it/s]\u001b[A\n",
      " 71%|███████   | 1163264/1648877 [00:03<00:00, 606172.68it/s]\u001b[A\n",
      " 75%|███████▌  | 1236992/1648877 [00:03<00:00, 614272.14it/s]\u001b[A\n",
      " 81%|████████  | 1335296/1648877 [00:03<00:00, 644382.80it/s]\u001b[A\n",
      " 87%|████████▋ | 1433600/1648877 [00:04<00:00, 710342.63it/s]\u001b[A\n",
      " 92%|█████████▏| 1515520/1648877 [00:04<00:00, 697428.15it/s]\u001b[A\n",
      " 99%|█████████▉| 1638400/1648877 [00:04<00:00, 754135.72it/s]\u001b[A\n",
      "1654784it [00:04, 384557.11it/s]                             \u001b[A\n",
      "0it [00:00, ?it/s]\u001b[A"
     ]
    },
    {
     "name": "stdout",
     "output_type": "stream",
     "text": [
      "Extracting ./MNIST/raw/t10k-images-idx3-ubyte.gz to ./MNIST/raw\n",
      "Downloading http://yann.lecun.com/exdb/mnist/t10k-labels-idx1-ubyte.gz to ./MNIST/raw/t10k-labels-idx1-ubyte.gz\n"
     ]
    },
    {
     "name": "stderr",
     "output_type": "stream",
     "text": [
      "\n",
      "  0%|          | 0/4542 [00:00<?, ?it/s]\u001b[A\n",
      "8192it [00:00, 18164.72it/s]            \u001b[A"
     ]
    },
    {
     "name": "stdout",
     "output_type": "stream",
     "text": [
      "Extracting ./MNIST/raw/t10k-labels-idx1-ubyte.gz to ./MNIST/raw\n",
      "Processing...\n",
      "Done!\n"
     ]
    },
    {
     "name": "stderr",
     "output_type": "stream",
     "text": [
      "9920512it [00:30, 989889.55it/s]                             "
     ]
    }
   ],
   "source": [
    "MNIST_train = torchvision.datasets.MNIST('./', download=True, train=True)\n",
    "MNIST_test = torchvision.datasets.MNIST('./', download=True, train=False)"
   ]
  },
  {
   "cell_type": "code",
   "execution_count": 3,
   "metadata": {},
   "outputs": [],
   "source": [
    "X_train = MNIST_train.data   # data = бывш. train_data\n",
    "y_train = MNIST_train.targets   # targets = бывш. train_labels\n",
    "X_test = MNIST_test.data\n",
    "y_test = MNIST_test.targets"
   ]
  },
  {
   "cell_type": "code",
   "execution_count": 4,
   "metadata": {},
   "outputs": [
    {
     "data": {
      "text/plain": [
       "(60000, 10000)"
      ]
     },
     "execution_count": 4,
     "metadata": {},
     "output_type": "execute_result"
    }
   ],
   "source": [
    "# Количество картинок на обучение и тест\n",
    "len(y_train), len(y_test)"
   ]
  },
  {
   "cell_type": "code",
   "execution_count": 5,
   "metadata": {},
   "outputs": [
    {
     "data": {
      "image/png": "[encoded data removed]",
      "text/plain": [
       "<Figure size 432x288 with 1 Axes>"
      ]
     },
     "metadata": {
      "needs_background": "light"
     },
     "output_type": "display_data"
    },
    {
     "name": "stdout",
     "output_type": "stream",
     "text": [
      "tensor(5)\n"
     ]
    }
   ],
   "source": [
    "\n",
    "plt.imshow(X_train[0, :, :])\n",
    "plt.show()\n",
    "print(y_train[0])"
   ]
  },
  {
   "cell_type": "code",
   "execution_count": 6,
   "metadata": {},
   "outputs": [],
   "source": [
    "# В отличие от полносвязной сети, которая видела картинку как один длинный вектор,\n",
    "# мы хотим в сверточную сеть передавать картинку как трехмерный тензор \n",
    "# Мы смотрим картинку в grayscale --> 1 канал\n",
    "# То есть тут мы делаем reshape тензора в 60000 картинок с одним каналом (глубина) и размерностью каждой 28х28.\n",
    "X_train = X_train.unsqueeze(1).float()\n",
    "X_test = X_test.unsqueeze(1).float()"
   ]
  },
  {
   "cell_type": "code",
   "execution_count": 7,
   "metadata": {},
   "outputs": [
    {
     "data": {
      "text/plain": [
       "torch.Size([60000, 1, 28, 28])"
      ]
     },
     "execution_count": 7,
     "metadata": {},
     "output_type": "execute_result"
    }
   ],
   "source": [
    "X_train.shape"
   ]
  },
  {
   "cell_type": "code",
   "execution_count": 8,
   "metadata": {},
   "outputs": [],
   "source": [
    "# На вход принимается 1 канал (так как grayscale), на выходе 6 каналов\n",
    "# Хотим, чтобы размерность была 28х28 --> ставим padding на 2 пикселя, \n",
    "# чтобы итоговая размерность тензора сохранилась.\n",
    "class LeNet5(torch.nn.Module):\n",
    "    def __init__(self):\n",
    "        super(LeNet5, self).__init__()\n",
    "        \n",
    "        # первый свёрточный слой, если б было RGB --> Conv3D\n",
    "        # размер ядра свёртки = 5\n",
    "        self.conv1 = torch.nn.Conv2d(in_channels=1, out_channels=6, kernel_size=5, padding=2)\n",
    "        # Функция активации - гиперболический тангенс\n",
    "        self.act1  = torch.nn.Tanh()\n",
    "        # AveragePooling для сжатия - дань традициям, хотя обычно в 2к19 используется maxpooling\n",
    "        self.pool1 = torch.nn.AvgPool2d(kernel_size=2, stride=2)\n",
    "       \n",
    "        self.conv2 = torch.nn.Conv2d(in_channels=6, out_channels=16, kernel_size=5, padding=0)\n",
    "        self.act2  = torch.nn.Tanh()\n",
    "        self.pool2 = torch.nn.AvgPool2d(kernel_size=2, stride=2)\n",
    "        \n",
    "        # Тут представим, что мы уже растянули вектор в одномерный (см. коммент ###!)\n",
    "        # Полносвязный слой. Если бы он был растянут в одномерный, то изображение бы подавалось \n",
    "        # размерностью 5х5 и глубиной 16 (5*5*16=400 - размер вектора)\n",
    "        # На выходе хотим вектора размера 120\n",
    "        self.fc1   = torch.nn.Linear(5 * 5 * 16, 120)\n",
    "        self.act3  = torch.nn.Tanh()\n",
    "        \n",
    "        self.fc2   = torch.nn.Linear(120, 84)\n",
    "        self.act4  = torch.nn.Tanh()\n",
    "        \n",
    "        # Из 84 нейронов делаем 10 с ответами (потому что чисел от 0 до 9)\n",
    "        self.fc3   = torch.nn.Linear(84, 10)\n",
    "    \n",
    "    def forward(self, x):\n",
    "        \"\"\"\n",
    "        Повторяем логику метода __init__, но применяем слои к входному тензору X.\n",
    "        X - batch из картинок\n",
    "        \"\"\"\n",
    "        \n",
    "        # свёртка\n",
    "        x = self.conv1(x)\n",
    "        # применение функции активации\n",
    "        x = self.act1(x)\n",
    "        # pooling\n",
    "        x = self.pool1(x)\n",
    "        \n",
    "        x = self.conv2(x)\n",
    "        x = self.act2(x)\n",
    "        x = self.pool2(x)\n",
    "        \n",
    "        ###! Здесь мы растягиваем тензор, чтобы преобразовать его к одномерному формату.\n",
    "        # x.size(0) - это размер батча, \n",
    "        # x.size(1) = 5\n",
    "        # x.size(2) = 5\n",
    "        # x.size(3) = 16\n",
    "        x = x.view(x.size(0), x.size(1) * x.size(2) * x.size(3))\n",
    "\n",
    "        x = self.fc1(x)\n",
    "        x = self.act3(x)\n",
    "        x = self.fc2(x)\n",
    "        x = self.act4(x)\n",
    "        x = self.fc3(x)\n",
    "        \n",
    "        return x\n",
    "\n",
    "# инициализируем сеть\n",
    "lenet5 = LeNet5()"
   ]
  },
  {
   "cell_type": "code",
   "execution_count": 9,
   "metadata": {},
   "outputs": [],
   "source": [
    "# проверка на наличие GPU\n",
    "device = torch.device('cuda:0' if torch.cuda.is_available() else 'cpu')\n",
    "lenet5 = lenet5.to(device)"
   ]
  },
  {
   "cell_type": "code",
   "execution_count": 10,
   "metadata": {},
   "outputs": [],
   "source": [
    "# шаг градиентного спуска = 0.001\n",
    "loss = torch.nn.CrossEntropyLoss()\n",
    "optimizer = torch.optim.Adam(lenet5.parameters(), lr=1.0e-3)"
   ]
  },
  {
   "cell_type": "code",
   "execution_count": 11,
   "metadata": {},
   "outputs": [
    {
     "name": "stdout",
     "output_type": "stream",
     "text": [
      "tensor(0.9749)\n",
      "tensor(0.9830)\n",
      "tensor(0.9855)\n",
      "tensor(0.9883)\n",
      "tensor(0.9902)\n",
      "tensor(0.9886)\n",
      "tensor(0.9894)\n",
      "tensor(0.9882)\n",
      "tensor(0.9887)\n",
      "tensor(0.9885)\n",
      "tensor(0.9894)\n",
      "tensor(0.9901)\n",
      "tensor(0.9882)\n",
      "tensor(0.9900)\n",
      "tensor(0.9901)\n",
      "tensor(0.9899)\n",
      "tensor(0.9894)\n",
      "tensor(0.9905)\n",
      "tensor(0.9875)\n",
      "tensor(0.9897)\n"
     ]
    }
   ],
   "source": [
    "epochs_num = 20 # потому что у меня CPU, а вообще надо брать 10000 или около того того же порядка\n",
    "batch_size = 100\n",
    "\n",
    "test_accuracy_history = []\n",
    "test_loss_history = []\n",
    "\n",
    "X_test = X_test.to(device)\n",
    "y_test = y_test.to(device)\n",
    "\n",
    "for epoch in range(epochs_num):\n",
    "    order = np.random.permutation(len(X_train))\n",
    "    for start_index in range(0, len(X_train), batch_size):\n",
    "        optimizer.zero_grad()   # внутри каждого батча обнуляем градиенты\n",
    "        \n",
    "        # выбираем, какие картинки пойдут в текущий батч\n",
    "        batch_indexes = order[start_index:start_index+batch_size]\n",
    "        \n",
    "        X_batch = X_train[batch_indexes].to(device)   # перенос текущего батча на GPU\n",
    "        y_batch = y_train[batch_indexes].to(device)\n",
    "        \n",
    "        preds = lenet5.forward(X_batch)  # прогоняем батч через сеть (=прямой проход = forward pass)\n",
    "        \n",
    "        loss_value = loss(preds, y_batch)\n",
    "        loss_value.backward()   # считаем градиенты\n",
    "        \n",
    "        # делаем шаг градиентного спуска\n",
    "        optimizer.step()\n",
    "    \n",
    "    # считаем качество на отложенной выборке\n",
    "    test_preds = lenet5.forward(X_test)\n",
    "    # Нам нужны только численные представления функции потерь, то есть\n",
    "    # нам не нужно хранить весь граф вычислений производной для обсчёта градиентов, \n",
    "    # поэтому здесь приводим всё к одному числу для функции потреь (скаляру) и чтоб это всё\n",
    "    # не занимало память на GPU --> отправляем всё в CPU.\n",
    "    test_loss_history.append(loss(test_preds, y_test).data.cpu())\n",
    "    \n",
    "    # СЧИТАЕМ КАЧЕСТВО\n",
    "    # Берем нейрон, у которого выход наибольший. \n",
    "    # Чтобы понять, у какого по счёту нейрона выход наибольший, берём argmax\n",
    "    # Сравниваем предсказываемую нейросетью цифру с таргетной цифрой, которая должна получиться (groundtruth)\n",
    "    accuracy = (test_preds.argmax(dim=1) == y_test).float().mean().data.cpu()\n",
    "    test_accuracy_history.append(accuracy)\n",
    "    \n",
    "    print(accuracy)"
   ]
  },
  {
   "cell_type": "code",
   "execution_count": 12,
   "metadata": {},
   "outputs": [
    {
     "data": {
      "text/plain": [
       "tensor([[-2.9423,  0.0717,  0.1841,  ..., 16.5307, -4.7692,  3.3224],\n",
       "        [-0.7647,  0.6360, 16.7354,  ..., -2.8282,  2.0145, -4.0262],\n",
       "        [-3.8264, 17.6337, -1.8363,  ...,  2.7907,  1.0463, -4.6785],\n",
       "        ...,\n",
       "        [-5.6251, -2.8034, -5.0496,  ...,  0.6560,  1.4267,  3.8189],\n",
       "        [-2.1859, -3.0887, -5.0559,  ..., -4.7734,  2.6247, -4.9940],\n",
       "        [ 2.4288, -3.5114,  0.8495,  ..., -9.3530, -2.1698, -4.7903]],\n",
       "       grad_fn=<AddmmBackward>)"
      ]
     },
     "execution_count": 12,
     "metadata": {},
     "output_type": "execute_result"
    }
   ],
   "source": [
    "lenet5.forward(X_test)"
   ]
  },
  {
   "cell_type": "code",
   "execution_count": 13,
   "metadata": {},
   "outputs": [
    {
     "data": {
      "image/png": "[encoded data removed]",
      "text/plain": [
       "<Figure size 432x288 with 1 Axes>"
      ]
     },
     "metadata": {
      "needs_background": "light"
     },
     "output_type": "display_data"
    }
   ],
   "source": [
    "plt.plot(test_loss_history);"
   ]
  },
  {
   "cell_type": "code",
   "execution_count": 14,
   "metadata": {},
   "outputs": [
    {
     "data": {
      "image/png": "[encoded data removed]",
      "text/plain": [
       "<Figure size 432x288 with 1 Axes>"
      ]
     },
     "metadata": {
      "needs_background": "light"
     },
     "output_type": "display_data"
    }
   ],
   "source": [
    "plt.plot(test_accuracy_history);"
   ]
  },
  {
   "cell_type": "code",
   "execution_count": null,
   "metadata": {},
   "outputs": [],
   "source": []
  }
 ],
 "metadata": {
  "kernelspec": {
   "display_name": "Python 3",
   "language": "python",
   "name": "python3"
  },
  "language_info": {
   "codemirror_mode": {
    "name": "ipython",
    "version": 3
   },
   "file_extension": ".py",
   "mimetype": "text/x-python",
   "name": "python",
   "nbconvert_exporter": "python",
   "pygments_lexer": "ipython3",
   "version": "3.7.4"
  }
 },
 "nbformat": 4,
 "nbformat_minor": 2
}
