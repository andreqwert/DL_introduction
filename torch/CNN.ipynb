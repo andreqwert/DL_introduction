{
 "cells": [
  {
   "cell_type": "markdown",
   "metadata": {},
   "source": [
    "# Лабораторная работа №5\n",
    "\n",
    "Асланов А.Б., ИУ9-31М\n",
    "\n",
    "Программируем нейронную сеть LeNet5 на PyTorch.    \n",
    "В этой сети:\n",
    "- 5 полносвязных слоёв;\n",
    "- 2 свёртки;\n",
    "- 3 полносвязных слоя.    \n",
    "В целом архитектура немного отличается от оригинальной."
   ]
  },
  {
   "cell_type": "code",
   "execution_count": 15,
   "metadata": {},
   "outputs": [],
   "source": [
    "import torch\n",
    "import random\n",
    "import numpy as np\n",
    "import torchvision.datasets\n",
    "import matplotlib.pyplot as plt\n",
    "\n",
    "random.seed(0)\n",
    "np.random.seed(0)\n",
    "torch.manual_seed(0)\n",
    "torch.cuda.manual_seed(0)\n",
    "torch.backends.cudnn.deterministic = True"
   ]
  },
  {
   "cell_type": "code",
   "execution_count": 16,
   "metadata": {},
   "outputs": [],
   "source": [
    "MNIST_train = torchvision.datasets.MNIST('./', download=True, train=True)\n",
    "MNIST_test = torchvision.datasets.MNIST('./', download=True, train=False)"
   ]
  },
  {
   "cell_type": "code",
   "execution_count": 18,
   "metadata": {},
   "outputs": [],
   "source": [
    "X_train = MNIST_train.data   # data = бывш. train_data\n",
    "y_train = MNIST_train.targets   # targets = бывш. train_labels\n",
    "X_test = MNIST_test.data\n",
    "y_test = MNIST_test.targets"
   ]
  },
  {
   "cell_type": "code",
   "execution_count": 19,
   "metadata": {},
   "outputs": [
    {
     "data": {
      "text/plain": [
       "(60000, 10000)"
      ]
     },
     "execution_count": 19,
     "metadata": {},
     "output_type": "execute_result"
    }
   ],
   "source": [
    "# Количество картинок на обучение и тест\n",
    "len(y_train), len(y_test)"
   ]
  },
  {
   "cell_type": "code",
   "execution_count": 20,
   "metadata": {},
   "outputs": [
    {
     "data": {
      "image/png": "[encoded data removed]",
      "text/plain": [
       "<Figure size 432x288 with 1 Axes>"
      ]
     },
     "metadata": {
      "needs_background": "light"
     },
     "output_type": "display_data"
    },
    {
     "name": "stdout",
     "output_type": "stream",
     "text": [
      "tensor(5)\n"
     ]
    }
   ],
   "source": [
    "\n",
    "plt.imshow(X_train[0, :, :])\n",
    "plt.show()\n",
    "print(y_train[0])"
   ]
  },
  {
   "cell_type": "code",
   "execution_count": 21,
   "metadata": {},
   "outputs": [],
   "source": [
    "# В отличие от полносвязной сети, которая видела картинку как один длинный вектор,\n",
    "# мы хотим в сверточную сеть передавать картинку как трехмерный тензор \n",
    "# Мы смотрим картинку в grayscale --> 1 канал\n",
    "# То есть тут мы делаем reshape тензора в 60000 картинок с одним каналом (глубина) и размерностью каждой 28х28.\n",
    "X_train = X_train.unsqueeze(1).float()\n",
    "X_test = X_test.unsqueeze(1).float()"
   ]
  },
  {
   "cell_type": "code",
   "execution_count": 22,
   "metadata": {},
   "outputs": [
    {
     "data": {
      "text/plain": [
       "torch.Size([60000, 1, 28, 28])"
      ]
     },
     "execution_count": 22,
     "metadata": {},
     "output_type": "execute_result"
    }
   ],
   "source": [
    "X_train.shape"
   ]
  },
  {
   "cell_type": "code",
   "execution_count": 9,
   "metadata": {},
   "outputs": [],
   "source": [
    "# На вход принимается 1 канал (так как grayscale), на выходе 6 каналов\n",
    "# Хотим, чтобы размерность была 28х28 --> ставим padding на 2 пикселя, \n",
    "# чтобы итоговая размерность тензора сохранилась.\n",
    "class LeNet5(torch.nn.Module):\n",
    "    def __init__(self):\n",
    "        super(LeNet5, self).__init__()\n",
    "        \n",
    "        # первый свёрточный слой, если б было RGB --> Conv3D\n",
    "        # размер ядра свёртки = 5\n",
    "        self.conv1 = torch.nn.Conv2d(in_channels=1, out_channels=6, kernel_size=5, padding=2)\n",
    "        # Функция активации - гиперболический тангенс\n",
    "        self.act1  = torch.nn.Tanh()\n",
    "        # AveragePooling для сжатия - дань традициям, хотя обычно в 2к19 используется maxpooling\n",
    "        self.pool1 = torch.nn.AvgPool2d(kernel_size=2, stride=2)\n",
    "       \n",
    "        self.conv2 = torch.nn.Conv2d(in_channels=6, out_channels=16, kernel_size=5, padding=0)\n",
    "        self.act2  = torch.nn.Tanh()\n",
    "        self.pool2 = torch.nn.AvgPool2d(kernel_size=2, stride=2)\n",
    "        \n",
    "        # Тут представим, что мы уже растянули вектор в одномерный (см. коммент ###!)\n",
    "        # Полносвязный слой. Если бы он был растянут в одномерный, то изображение бы подавалось \n",
    "        # размерностью 5х5 и глубиной 16 (5*5*16=400 - размер вектора)\n",
    "        # На выходе хотим вектора размера 120\n",
    "        self.fc1   = torch.nn.Linear(5 * 5 * 16, 120)\n",
    "        self.act3  = torch.nn.Tanh()\n",
    "        \n",
    "        self.fc2   = torch.nn.Linear(120, 84)\n",
    "        self.act4  = torch.nn.Tanh()\n",
    "        \n",
    "        # Из 84 нейронов делаем 10 с ответами (потому что чисел от 0 до 9)\n",
    "        self.fc3   = torch.nn.Linear(84, 10)\n",
    "    \n",
    "    def forward(self, x):\n",
    "        \"\"\"\n",
    "        Повторяем логику метода __init__, но применяем слои к входному тензору X.\n",
    "        X - batch из картинок\n",
    "        \"\"\"\n",
    "        \n",
    "        # свёртка\n",
    "        x = self.conv1(x)\n",
    "        # применение функции активации\n",
    "        x = self.act1(x)\n",
    "        # pooling\n",
    "        x = self.pool1(x)\n",
    "        \n",
    "        x = seepochs_num = 50\n",
    "batch_size = 100\n",
    "\n",
    "test_accuracy_history = []\n",
    "test_loss_history = []\n",
    "\n",
    "X_test = X_test.to(device)\n",
    "y_test = y_test.to(device)\n",
    "\n",
    "for epoch in range(epochs_num):\n",
    "    order = np.random.permutation(len(X_train))\n",
    "    for start_index in range(0, len(X_train), batch_size):\n",
    "        optimizer.zero_grad()   # внутри каждого батча обнуляем градиенты\n",
    "        \n",
    "        batch_indexes = order[start_index:start_index+batch_size]\n",
    "        \n",
    "        X_batch = X_train[batch_indexes].to(device)\n",
    "        y_batch = y_train[batch_indexes].to(device)\n",
    "        \n",
    "        preds = lenet5.forward(X_batch) \n",
    "        \n",
    "        loss_value = loss(preds, y_batch)\n",
    "        loss_value.backward()\n",
    "        \n",
    "        optimizer.step()\n",
    "        \n",
    "    test_preds = lenet5.forward(X_test)\n",
    "    test_loss_history.append(loss(test_preds, y_test).data.cpu())\n",
    "    \n",
    "    accuracy = (test_preds.argmax(dim=1) == y_test).float().mean().data.cpu()\n",
    "    test_accuracy_history.append(accuracy)\n",
    "    \n",
    "    print(accuracy)lf.conv2(x)\n",
    "        x = self.act2(x)\n",
    "        x = self.pool2(x)\n",
    "        \n",
    "        ###! Здесь мы растягиваем тензор, чтобы преобразовать его к одномерному формату.\n",
    "        # x.size(0) - это размер батча, \n",
    "        # x.size(1) = 5\n",
    "        # x.size(2) = 5\n",
    "        # x.size(3) = 16\n",
    "        x = x.view(x.size(0), x.size(1) * x.size(2) * x.size(3))\n",
    "\n",
    "        x = self.fc1(x)\n",
    "        x = self.act3(x)\n",
    "        x = self.fc2(x)\n",
    "        x = self.act4(x)\n",
    "        x = self.fc3(x)\n",
    "        \n",
    "        return x\n",
    "\n",
    "# инициализируем сеть\n",
    "lenet5 = LeNet5()"
   ]
  },
  {
   "cell_type": "code",
   "execution_count": 10,
   "metadata": {},
   "outputs": [],
   "source": [
    "# проверка на наличие GPU\n",
    "device = torch.device('cuda:0' if torch.cuda.is_available() else 'cpu')\n",
    "lenet5 = lenet5.to(device)"
   ]
  },
  {
   "cell_type": "code",
   "execution_count": 11,
   "metadata": {},
   "outputs": [],
   "source": [
    "# шаг градиентного спуска = 0.001\n",
    "loss = torch.nn.CrossEntropyLoss()\n",
    "optimizer = torch.optim.Adam(lenet5.parameters(), lr=1.0e-3)"
   ]
  },
  {
   "cell_type": "code",
   "execution_count": 26,
   "metadata": {},
   "outputs": [
    {
     "name": "stdout",
     "output_type": "stream",
     "text": [
      "tensor(0.9882)\n",
      "tensor(0.9912)\n",
      "tensor(0.9904)\n",
      "tensor(0.9900)\n",
      "tensor(0.9899)\n",
      "tensor(0.9888)\n",
      "tensor(0.9898)\n",
      "tensor(0.9901)\n",
      "tensor(0.9887)\n",
      "tensor(0.9903)\n",
      "tensor(0.9892)\n",
      "tensor(0.9887)\n",
      "tensor(0.9886)\n",
      "tensor(0.9895)\n",
      "tensor(0.9913)\n",
      "tensor(0.9894)\n",
      "tensor(0.9880)\n",
      "tensor(0.9886)\n",
      "tensor(0.9903)\n",
      "tensor(0.9890)\n"
     ]
    }
   ],
   "source": [
    "epochs_num = 20 # потому что у меня CPU, а вообще надо брать 10000 или около того того же порядка\n",
    "batch_size = 100\n",
    "\n",
    "test_accuracy_history = []\n",
    "test_loss_history = []\n",
    "\n",
    "X_test = X_test.to(device)\n",
    "y_test = y_test.to(device)\n",
    "\n",
    "for epoch in range(epochs_num):\n",
    "    order = np.random.permutation(len(X_train))\n",
    "    for start_index in range(0, len(X_train), batch_size):\n",
    "        optimizer.zero_grad()   # внутри каждого батча обнуляем градиенты\n",
    "        \n",
    "        # выбираем, какие картинки пойдут в текущий батч\n",
    "        batch_indexes = order[start_index:start_index+batch_size]\n",
    "        \n",
    "        X_batch = X_train[batch_indexes].to(device)   # перенос текущего батча на GPU\n",
    "        y_batch = y_train[batch_indexes].to(device)\n",
    "        \n",
    "        preds = lenet5.forward(X_batch)  # прогоняем батч через сеть (=прямой проход = forward pass)\n",
    "        \n",
    "        loss_value = loss(preds, y_batch)\n",
    "        loss_value.backward()   # считаем градиенты\n",
    "        \n",
    "        # делаем шаг градиентного спуска\n",
    "        optimizer.step()\n",
    "    \n",
    "    # считаем качество на отложенной выборке\n",
    "    test_preds = lenet5.forward(X_test)\n",
    "    # Нам нужны только численные представления функции потерь, то есть\n",
    "    # нам не нужно хранить весь граф вычислений производной для обсчёта градиентов, \n",
    "    # поэтому здесь приводим всё к одному числу для функции потреь (скаляру) и чтоб это всё\n",
    "    # не занимало память на GPU --> отправляем всё в CPU.\n",
    "    test_loss_history.append(loss(test_preds, y_test).data.cpu())\n",
    "    \n",
    "    # СЧИТАЕМ КАЧЕСТВО\n",
    "    # Берем нейрон, у которого выход наибольший. \n",
    "    # Чтобы понять, у какого по счёту нейрона выход наибольший, берём argmax\n",
    "    # Сравниваем предсказываемую нейросетью цифру с таргетной цифрой, которая должна получиться (groundtruth)\n",
    "    accuracy = (test_preds.argmax(dim=1) == y_test).float().mean().data.cpu()\n",
    "    test_accuracy_history.append(accuracy)\n",
    "    \n",
    "    print(accuracy)"
   ]
  },
  {
   "cell_type": "code",
   "execution_count": 27,
   "metadata": {},
   "outputs": [
    {
     "data": {
      "text/plain": [
       "tensor([[ -2.0073,   0.2985,  -3.0975,  ...,  17.6197,  -7.3333,   3.9499],\n",
       "        [  2.8940,  -0.1180,  21.9251,  ...,  -2.2130,   2.0798,  -9.3701],\n",
       "        [ -6.8575,  21.9245,  -1.7572,  ...,   1.4417,   2.1415,  -5.8175],\n",
       "        ...,\n",
       "        [ -5.0290,  -2.1019,  -7.4278,  ...,   0.9116,   2.7682,   4.0811],\n",
       "        [  0.0569,  -3.8094,  -6.2494,  ...,  -8.7560,   6.4930,  -3.7593],\n",
       "        [  5.5560,  -2.6002,   2.2526,  ..., -11.2478,   1.1057,  -8.7149]],\n",
       "       grad_fn=<AddmmBackward>)"
      ]
     },
     "execution_count": 27,
     "metadata": {},
     "output_type": "execute_result"
    }
   ],
   "source": [
    "lenet5.forward(X_test)"
   ]
  },
  {
   "cell_type": "code",
   "execution_count": 28,
   "metadata": {},
   "outputs": [
    {
     "data": {
      "image/png": "[encoded data removed]",
      "text/plain": [
       "<Figure size 432x288 with 1 Axes>"
      ]
     },
     "metadata": {
      "needs_background": "light"
     },
     "output_type": "display_data"
    }
   ],
   "source": [
    "plt.plot(test_loss_history);"
   ]
  },
  {
   "cell_type": "code",
   "execution_count": 29,
   "metadata": {},
   "outputs": [
    {
     "data": {
      "image/png": "[encoded data removed]",
      "text/plain": [
       "<Figure size 432x288 with 1 Axes>"
      ]
     },
     "metadata": {
      "needs_background": "light"
     },
     "output_type": "display_data"
    }
   ],
   "source": [
    "plt.plot(test_accuracy_history);"
   ]
  }
 ],
 "metadata": {
  "kernelspec": {
   "display_name": "Python 3",
   "language": "python",
   "name": "python3"
  },
  "language_info": {
   "codemirror_mode": {
    "name": "ipython",
    "version": 3
   },
   "file_extension": ".py",
   "mimetype": "text/x-python",
   "name": "python",
   "nbconvert_exporter": "python",
   "pygments_lexer": "ipython3",
   "version": "3.7.4"
  }
 },
 "nbformat": 4,
 "nbformat_minor": 2
}
